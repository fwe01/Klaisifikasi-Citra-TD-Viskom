{
 "cells": [
  {
   "cell_type": "markdown",
   "metadata": {},
   "source": [
    "# Import"
   ]
  },
  {
   "cell_type": "code",
   "execution_count": 3,
   "metadata": {},
   "outputs": [],
   "source": [
    "import pandas as pd\n",
    "import tensorflow as tf\n",
    "from tensorflow.keras.preprocessing.image import ImageDataGenerator\n",
    "from tensorflow.keras.models import Sequential, load_model\n",
    "from tensorflow.keras.layers import Conv2D, MaxPooling2D, Flatten, Dense, Dropout, Activation, BatchNormalization\n",
    "from tensorflow.keras.optimizers import RMSprop\n",
    "from tensorflow.keras.utils import plot_model\n",
    "from tensorflow.keras.applications import VGG16\n",
    "from tensorflow.keras.callbacks import EarlyStopping\n",
    "from tensorflow.keras.metrics import AUC, Recall\n"
   ]
  },
  {
   "cell_type": "markdown",
   "metadata": {},
   "source": [
    "# Check GPU"
   ]
  },
  {
   "cell_type": "code",
   "execution_count": 4,
   "metadata": {},
   "outputs": [
    {
     "name": "stdout",
     "output_type": "stream",
     "text": [
      "Num GPUs Available:  1\n"
     ]
    }
   ],
   "source": [
    "import tensorflow as tf\n",
    "\n",
    "# Check if GPU is available\n",
    "print(\"Num GPUs Available: \", len(tf.config.list_physical_devices('GPU')))"
   ]
  },
  {
   "cell_type": "markdown",
   "metadata": {},
   "source": [
    "# Load data"
   ]
  },
  {
   "cell_type": "code",
   "execution_count": 3,
   "metadata": {},
   "outputs": [],
   "source": [
    "# Specify the path to your CSV file\n",
    "csv_file_path = 'JustRAIGS_Train_labels.csv'\n",
    "\n",
    "# Read the CSV file into a DataFrame\n",
    "df = pd.read_csv(csv_file_path, delimiter=';')"
   ]
  },
  {
   "cell_type": "code",
   "execution_count": 4,
   "metadata": {},
   "outputs": [
    {
     "name": "stdout",
     "output_type": "stream",
     "text": [
      "          Eye ID Final Label Fellow Eye ID   Age Label G1 Label G2 Label G3  \\\n",
      "34   TRAIN000034          RG           NaN  32.0       RG       RG      NaN   \n",
      "60   TRAIN000060          RG           NaN  74.0       RG       RG      NaN   \n",
      "68   TRAIN000068          RG   TRAIN012581  64.0       RG      NRG       RG   \n",
      "100  TRAIN000100          RG           NaN  77.0       RG      NRG       RG   \n",
      "106  TRAIN000106          RG   TRAIN014144  81.0       RG       RG      NaN   \n",
      "122  TRAIN000122          RG   TRAIN044306  72.0        U       RG       RG   \n",
      "127  TRAIN000127          RG   TRAIN002695  73.0       RG      NRG       RG   \n",
      "140  TRAIN000140          RG           NaN  73.0       RG       RG      NaN   \n",
      "188  TRAIN000188          RG   TRAIN035113  78.0      NaN      NaN       RG   \n",
      "195  TRAIN000195          RG   TRAIN090999  80.0       RG       RG      NaN   \n",
      "225  TRAIN000225          RG   TRAIN073663  61.0       RG      NRG       RG   \n",
      "285  TRAIN000285          RG   TRAIN102041  67.0       RG       RG      NaN   \n",
      "329  TRAIN000329          RG   TRAIN061475  61.0       RG       RG      NaN   \n",
      "344  TRAIN000344          RG   TRAIN076538  51.0       RG       RG      NaN   \n",
      "348  TRAIN000348          RG   TRAIN071948  57.0        U       RG       RG   \n",
      "362  TRAIN000362          RG   TRAIN033670  68.0       RG       RG      NaN   \n",
      "373  TRAIN000373          RG   TRAIN012637  89.0       RG      NRG       RG   \n",
      "392  TRAIN000392          RG   TRAIN057619  61.0       RG       RG      NaN   \n",
      "421  TRAIN000421          RG   TRAIN033393  56.0       RG       RG      NaN   \n",
      "429  TRAIN000429          RG   TRAIN017162  60.0       RG       RG      NaN   \n",
      "\n",
      "     G1 ANRS  G1 ANRI  G1 RNFLDS  ...  G3 ANRS  G3 ANRI  G3 RNFLDS  G3 RNFLDI  \\\n",
      "34       1.0      1.0        0.0  ...      NaN      NaN        NaN        NaN   \n",
      "60       1.0      1.0        0.0  ...      NaN      NaN        NaN        NaN   \n",
      "68       1.0      1.0        0.0  ...      1.0      1.0        0.0        0.0   \n",
      "100      1.0      1.0        0.0  ...      1.0      1.0        0.0        0.0   \n",
      "106      1.0      1.0        0.0  ...      NaN      NaN        NaN        NaN   \n",
      "122      0.0      0.0        0.0  ...      1.0      1.0        0.0        0.0   \n",
      "127      1.0      1.0        0.0  ...      1.0      1.0        0.0        0.0   \n",
      "140      0.0      1.0        0.0  ...      NaN      NaN        NaN        NaN   \n",
      "188      NaN      NaN        NaN  ...      0.0      1.0        0.0        0.0   \n",
      "195      1.0      1.0        0.0  ...      NaN      NaN        NaN        NaN   \n",
      "225      1.0      1.0        0.0  ...      1.0      0.0        0.0        0.0   \n",
      "285      1.0      0.0        0.0  ...      NaN      NaN        NaN        NaN   \n",
      "329      1.0      1.0        0.0  ...      NaN      NaN        NaN        NaN   \n",
      "344      1.0      0.0        0.0  ...      NaN      NaN        NaN        NaN   \n",
      "348      0.0      0.0        0.0  ...      0.0      1.0        0.0        0.0   \n",
      "362      1.0      0.0        1.0  ...      NaN      NaN        NaN        NaN   \n",
      "373      1.0      1.0        0.0  ...      0.0      1.0        0.0        0.0   \n",
      "392      1.0      1.0        0.0  ...      NaN      NaN        NaN        NaN   \n",
      "421      0.0      1.0        0.0  ...      NaN      NaN        NaN        NaN   \n",
      "429      1.0      1.0        1.0  ...      NaN      NaN        NaN        NaN   \n",
      "\n",
      "     G3 BCLVS  G3 BCLVI  G3 NVT  G3 DH  G3 LD  G3 LC  \n",
      "34        NaN       NaN     NaN    NaN    NaN    NaN  \n",
      "60        NaN       NaN     NaN    NaN    NaN    NaN  \n",
      "68        1.0       0.0     1.0    0.0    0.0    1.0  \n",
      "100       0.0       0.0     0.0    0.0    1.0    1.0  \n",
      "106       NaN       NaN     NaN    NaN    NaN    NaN  \n",
      "122       0.0       0.0     1.0    1.0    0.0    1.0  \n",
      "127       1.0       0.0     0.0    0.0    0.0    0.0  \n",
      "140       NaN       NaN     NaN    NaN    NaN    NaN  \n",
      "188       0.0       0.0     0.0    1.0    1.0    0.0  \n",
      "195       NaN       NaN     NaN    NaN    NaN    NaN  \n",
      "225       1.0       0.0     0.0    0.0    1.0    1.0  \n",
      "285       NaN       NaN     NaN    NaN    NaN    NaN  \n",
      "329       NaN       NaN     NaN    NaN    NaN    NaN  \n",
      "344       NaN       NaN     NaN    NaN    NaN    NaN  \n",
      "348       0.0       0.0     0.0    0.0    1.0    1.0  \n",
      "362       NaN       NaN     NaN    NaN    NaN    NaN  \n",
      "373       0.0       0.0     0.0    0.0    0.0    0.0  \n",
      "392       NaN       NaN     NaN    NaN    NaN    NaN  \n",
      "421       NaN       NaN     NaN    NaN    NaN    NaN  \n",
      "429       NaN       NaN     NaN    NaN    NaN    NaN  \n",
      "\n",
      "[20 rows x 37 columns]\n"
     ]
    }
   ],
   "source": [
    "# Display the DataFrame\n",
    "print(df[df['Final Label'] == 'RG'].head(20))"
   ]
  },
  {
   "cell_type": "code",
   "execution_count": 5,
   "metadata": {},
   "outputs": [],
   "source": [
    "df['Eye ID'] = df['Eye ID'] + '.JPG'"
   ]
  },
  {
   "cell_type": "code",
   "execution_count": 6,
   "metadata": {},
   "outputs": [
    {
     "data": {
      "text/plain": [
       "34        TRAIN000034.JPG\n",
       "60        TRAIN000060.JPG\n",
       "68        TRAIN000068.JPG\n",
       "100       TRAIN000100.JPG\n",
       "106       TRAIN000106.JPG\n",
       "               ...       \n",
       "101296    TRAIN101315.JPG\n",
       "101339    TRAIN101358.JPG\n",
       "101343    TRAIN101362.JPG\n",
       "101348    TRAIN101367.JPG\n",
       "101349    TRAIN101368.JPG\n",
       "Name: Eye ID, Length: 3270, dtype: object"
      ]
     },
     "execution_count": 6,
     "metadata": {},
     "output_type": "execute_result"
    }
   ],
   "source": [
    "df[df['Final Label'] == 'RG']['Eye ID']"
   ]
  },
  {
   "cell_type": "code",
   "execution_count": 7,
   "metadata": {},
   "outputs": [
    {
     "data": {
      "text/plain": [
       "Final Label\n",
       "NRG    98153\n",
       "RG      3270\n",
       "Name: count, dtype: int64"
      ]
     },
     "execution_count": 7,
     "metadata": {},
     "output_type": "execute_result"
    }
   ],
   "source": [
    "# RG= '1'\n",
    "# NRG= '0'\n",
    "\n",
    "RG = 'RG'\n",
    "NRG = 'NRG'\n",
    "\n",
    "# df.loc[df['Final Label'] == 'RG', 'Final Label'] = RG \n",
    "# df.loc[df['Final Label'] == 'NRG', 'Final Label'] = NRG\n",
    "df['Final Label'].value_counts()"
   ]
  },
  {
   "cell_type": "code",
   "execution_count": 8,
   "metadata": {},
   "outputs": [
    {
     "data": {
      "text/html": [
       "<div>\n",
       "<style scoped>\n",
       "    .dataframe tbody tr th:only-of-type {\n",
       "        vertical-align: middle;\n",
       "    }\n",
       "\n",
       "    .dataframe tbody tr th {\n",
       "        vertical-align: top;\n",
       "    }\n",
       "\n",
       "    .dataframe thead th {\n",
       "        text-align: right;\n",
       "    }\n",
       "</style>\n",
       "<table border=\"1\" class=\"dataframe\">\n",
       "  <thead>\n",
       "    <tr style=\"text-align: right;\">\n",
       "      <th></th>\n",
       "      <th>Eye ID</th>\n",
       "      <th>Final Label</th>\n",
       "    </tr>\n",
       "  </thead>\n",
       "  <tbody>\n",
       "    <tr>\n",
       "      <th>0</th>\n",
       "      <td>TRAIN000000.JPG</td>\n",
       "      <td>NRG</td>\n",
       "    </tr>\n",
       "    <tr>\n",
       "      <th>1</th>\n",
       "      <td>TRAIN000001.JPG</td>\n",
       "      <td>NRG</td>\n",
       "    </tr>\n",
       "    <tr>\n",
       "      <th>2</th>\n",
       "      <td>TRAIN000002.JPG</td>\n",
       "      <td>NRG</td>\n",
       "    </tr>\n",
       "    <tr>\n",
       "      <th>3</th>\n",
       "      <td>TRAIN000003.JPG</td>\n",
       "      <td>NRG</td>\n",
       "    </tr>\n",
       "    <tr>\n",
       "      <th>4</th>\n",
       "      <td>TRAIN000004.JPG</td>\n",
       "      <td>NRG</td>\n",
       "    </tr>\n",
       "    <tr>\n",
       "      <th>...</th>\n",
       "      <td>...</td>\n",
       "      <td>...</td>\n",
       "    </tr>\n",
       "    <tr>\n",
       "      <th>101418</th>\n",
       "      <td>TRAIN101437.JPG</td>\n",
       "      <td>NRG</td>\n",
       "    </tr>\n",
       "    <tr>\n",
       "      <th>101419</th>\n",
       "      <td>TRAIN101438.JPG</td>\n",
       "      <td>NRG</td>\n",
       "    </tr>\n",
       "    <tr>\n",
       "      <th>101420</th>\n",
       "      <td>TRAIN101439.JPG</td>\n",
       "      <td>NRG</td>\n",
       "    </tr>\n",
       "    <tr>\n",
       "      <th>101421</th>\n",
       "      <td>TRAIN101440.JPG</td>\n",
       "      <td>NRG</td>\n",
       "    </tr>\n",
       "    <tr>\n",
       "      <th>101422</th>\n",
       "      <td>TRAIN101441.JPG</td>\n",
       "      <td>NRG</td>\n",
       "    </tr>\n",
       "  </tbody>\n",
       "</table>\n",
       "<p>101423 rows × 2 columns</p>\n",
       "</div>"
      ],
      "text/plain": [
       "                 Eye ID Final Label\n",
       "0       TRAIN000000.JPG         NRG\n",
       "1       TRAIN000001.JPG         NRG\n",
       "2       TRAIN000002.JPG         NRG\n",
       "3       TRAIN000003.JPG         NRG\n",
       "4       TRAIN000004.JPG         NRG\n",
       "...                 ...         ...\n",
       "101418  TRAIN101437.JPG         NRG\n",
       "101419  TRAIN101438.JPG         NRG\n",
       "101420  TRAIN101439.JPG         NRG\n",
       "101421  TRAIN101440.JPG         NRG\n",
       "101422  TRAIN101441.JPG         NRG\n",
       "\n",
       "[101423 rows x 2 columns]"
      ]
     },
     "execution_count": 8,
     "metadata": {},
     "output_type": "execute_result"
    }
   ],
   "source": [
    "df = df[['Eye ID', 'Final Label']]\n",
    "df['Final Label'] = df['Final Label'].astype(str)\n",
    "df"
   ]
  },
  {
   "cell_type": "code",
   "execution_count": 9,
   "metadata": {},
   "outputs": [
    {
     "data": {
      "text/plain": [
       "Final Label\n",
       "NRG    3270\n",
       "RG     3270\n",
       "Name: count, dtype: int64"
      ]
     },
     "execution_count": 9,
     "metadata": {},
     "output_type": "execute_result"
    }
   ],
   "source": [
    "# check already ROI generated\n",
    "import os\n",
    "\n",
    "filenames = set(os.listdir('ROI'))\n",
    "roi_generated = df[df['Eye ID'].isin(filenames)].copy()\n",
    "roi_generated['Final Label'].value_counts()"
   ]
  },
  {
   "cell_type": "markdown",
   "metadata": {},
   "source": [
    "# Count Class"
   ]
  },
  {
   "cell_type": "markdown",
   "metadata": {},
   "source": [
    "# Split "
   ]
  },
  {
   "cell_type": "code",
   "execution_count": 10,
   "metadata": {},
   "outputs": [],
   "source": [
    "train_rg = roi_generated[roi_generated['Final Label'] == RG].sample(n=2000, random_state=42)\n",
    "train_nrg = roi_generated[roi_generated['Final Label'] == NRG].sample(n=2000, random_state=42)\n",
    "\n",
    "# Extract index labels of sampled rows\n",
    "sampled_index = pd.concat([train_rg, train_nrg]).index\n",
    "\n",
    "# Remove sampled rows from the original DataFrame\n",
    "cleaned_df = roi_generated.drop(index=sampled_index)\n",
    "\n",
    "train_df = pd.concat([train_nrg, train_rg])\n",
    "train_df['type']= 'TRAIN'"
   ]
  },
  {
   "cell_type": "code",
   "execution_count": 11,
   "metadata": {},
   "outputs": [],
   "source": [
    "val_rg = cleaned_df[cleaned_df['Final Label'] == RG].sample(n=500, random_state=42)\n",
    "val_nrg = cleaned_df[cleaned_df['Final Label'] == NRG].sample(n=500, random_state=42)\n",
    "\n",
    "# Extract index labels of sampled rows\n",
    "sampled_index = pd.concat([val_rg, val_nrg]).index\n",
    "\n",
    "# Remove sampled rows from the original DataFrame\n",
    "cleaned_df = cleaned_df.drop(index=sampled_index)\n",
    "val_df = pd.concat([val_nrg, val_rg])\n",
    "val_df['type']= 'VAL'"
   ]
  },
  {
   "cell_type": "code",
   "execution_count": 12,
   "metadata": {},
   "outputs": [
    {
     "data": {
      "text/plain": [
       "Final Label\n",
       "NRG    2000\n",
       "RG     2000\n",
       "Name: count, dtype: int64"
      ]
     },
     "execution_count": 12,
     "metadata": {},
     "output_type": "execute_result"
    }
   ],
   "source": [
    "train_df['Final Label'].value_counts()"
   ]
  },
  {
   "cell_type": "code",
   "execution_count": 13,
   "metadata": {},
   "outputs": [
    {
     "data": {
      "text/plain": [
       "Final Label\n",
       "NRG    500\n",
       "RG     500\n",
       "Name: count, dtype: int64"
      ]
     },
     "execution_count": 13,
     "metadata": {},
     "output_type": "execute_result"
    }
   ],
   "source": [
    "val_df['Final Label'].value_counts()"
   ]
  },
  {
   "cell_type": "code",
   "execution_count": 14,
   "metadata": {},
   "outputs": [],
   "source": [
    "test_rg = cleaned_df[cleaned_df['Final Label'] == RG]\n",
    "test_nrg = cleaned_df[cleaned_df['Final Label'] == NRG].sample(n=770, random_state=42)\n",
    "test_df = pd.concat([test_nrg, test_rg])\n",
    "test_df['type'] = 'TEST'"
   ]
  },
  {
   "cell_type": "code",
   "execution_count": 15,
   "metadata": {},
   "outputs": [],
   "source": [
    "#Simpan data yang terpilih training val dan test saja\n",
    "# Concatenating DataFrames\n",
    "# combined_df = pd.concat([train_df, val_df, test_df], ignore_index=True)  # ignore_index=True resets the index\n",
    "\n",
    "# Exporting combined DataFrame to a CSV file\n",
    "# combined_df.to_csv('combined_data.csv', index=False)"
   ]
  },
  {
   "cell_type": "markdown",
   "metadata": {},
   "source": [
    "# Load data into generator"
   ]
  },
  {
   "cell_type": "code",
   "execution_count": 16,
   "metadata": {},
   "outputs": [
    {
     "name": "stdout",
     "output_type": "stream",
     "text": [
      "Found 4000 validated image filenames belonging to 2 classes.\n",
      "Found 1000 validated image filenames belonging to 2 classes.\n",
      "Found 1540 validated image filenames belonging to 2 classes.\n"
     ]
    }
   ],
   "source": [
    "aug_datagen = ImageDataGenerator(\n",
    "    rescale=1./255,  # Rescale pixel values between 0 and 1\n",
    "    rotation_range=20,  # Randomly rotate images by up to 20 degrees\n",
    "    width_shift_range=0.1,  # Randomly shift images horizontally by up to 10%\n",
    "    height_shift_range=0.1,  # Randomly shift images vertically by up to 10%\n",
    "    horizontal_flip=True,  # Randomly flip images horizontally\n",
    "    vertical_flip=False,  # Don't flip images vertically\n",
    "    fill_mode='nearest'  # Strategy for filling in newly created pixels\n",
    ")\n",
    "\n",
    "# Define other parameters for data loading\n",
    "# target_size = (512, 512)\n",
    "target_size = (256, 256)\n",
    "\n",
    "# Define the path to your image directory\n",
    "image_folder = 'ROI'\n",
    "# image_folder = 'JustRAIGS_Train'\n",
    "\n",
    "# Create an ImageDataGenerator instance for your dataset\n",
    "train_image_generator = aug_datagen.flow_from_dataframe(\n",
    "    dataframe=train_df,\n",
    "    directory=image_folder,\n",
    "    x_col='Eye ID',\n",
    "    y_col='Final Label',\n",
    "    target_size=target_size,\n",
    "    class_mode='categorical'\n",
    ")\n",
    "\n",
    "datagen = ImageDataGenerator(rescale=1./255) \n",
    "\n",
    "val_image_generator = datagen.flow_from_dataframe(\n",
    "    dataframe=val_df,\n",
    "    directory=image_folder,\n",
    "    x_col='Eye ID',\n",
    "    y_col='Final Label',\n",
    "    target_size=target_size,\n",
    "    class_mode='categorical'\n",
    ")\n",
    "\n",
    "test_image_generator = datagen.flow_from_dataframe(\n",
    "    dataframe=test_df,\n",
    "    directory=image_folder,\n",
    "    x_col='Eye ID',\n",
    "    y_col='Final Label',\n",
    "    target_size=target_size,\n",
    "    class_mode='categorical'\n",
    ")"
   ]
  },
  {
   "cell_type": "markdown",
   "metadata": {},
   "source": [
    "# Create Model"
   ]
  },
  {
   "cell_type": "markdown",
   "metadata": {},
   "source": [
    "## V1\n",
    "\n",
    "Own trial"
   ]
  },
  {
   "cell_type": "code",
   "execution_count": 17,
   "metadata": {},
   "outputs": [],
   "source": [
    "# Define the model\n",
    "model_name = 'v1'\n",
    "def createV1Model():\n",
    "    model = Sequential()\n",
    "\n",
    "    # Convolutional layers\n",
    "    model.add(Conv2D(3, (5, 5), activation='relu', input_shape=(512, 512, 3)))\n",
    "    model.add(MaxPooling2D((2, 2)))\n",
    "    model.add(Conv2D(48, (3, 3), activation='relu'))\n",
    "    model.add(MaxPooling2D((2, 2)))\n",
    "    model.add(Conv2D(96, (3, 3), activation='relu'))\n",
    "    model.add(MaxPooling2D((2, 2)))\n",
    "\n",
    "    # Flatten layer to transition from convolutional to fully connected layers\n",
    "    model.add(Flatten())\n",
    "\n",
    "    # Fully connected layers\n",
    "    model.add(Dense(256, activation='relu'))\n",
    "    model.add(Dense(128, activation='relu'))\n",
    "    model.add(Dropout(0.3))\n",
    "    model.add(Dense(2, activation='softmax'))  # Output layer with sigmoid activation for binary classification\n",
    "\n",
    "    return model"
   ]
  },
  {
   "cell_type": "markdown",
   "metadata": {},
   "source": [
    "## V2\n",
    "\n",
    "https://journals.lww.com/ijo/fulltext/2021/10000/identification_of_glaucoma_from_fundus_images.31.aspx"
   ]
  },
  {
   "cell_type": "code",
   "execution_count": 18,
   "metadata": {},
   "outputs": [],
   "source": [
    "# Define the model\n",
    "model_name = 'v2'\n",
    "\n",
    "def createV2Model():\n",
    "    model = Sequential()\n",
    "\n",
    "    # Convolutional layers\n",
    "    model.add(Conv2D(32, (3, 3), activation='relu', input_shape=(256, 256, 3)))\n",
    "    # model.add(BatchNormalization())\n",
    "    # model.add(MaxPooling2D((2, 2)))\n",
    "    model.add(Conv2D(32, (3, 3), activation='relu'))\n",
    "    model.add(BatchNormalization())\n",
    "    model.add(MaxPooling2D((2, 2)))\n",
    "\n",
    "    model.add(Conv2D(64, (3, 3), activation='relu'))\n",
    "    # model.add(BatchNormalization())\n",
    "    # model.add(MaxPooling2D((2, 2)))\n",
    "    model.add(Conv2D(64, (3, 3), activation='relu'))\n",
    "    model.add(BatchNormalization())\n",
    "    model.add(MaxPooling2D((2, 2)))\n",
    "\n",
    "    model.add(Conv2D(128, (3, 3), activation='relu'))\n",
    "    # model.add(BatchNormalization())\n",
    "    # model.add(MaxPooling2D((2, 2)))\n",
    "    model.add(Conv2D(128, (3, 3), activation='relu'))\n",
    "    model.add(BatchNormalization())\n",
    "    model.add(MaxPooling2D((2, 2)))\n",
    "\n",
    "    model.add(Conv2D(256, (3, 3), activation='relu'))\n",
    "    model.add(Conv2D(256, (3, 3), activation='relu'))\n",
    "    model.add(BatchNormalization())\n",
    "    model.add(MaxPooling2D((2, 2)))\n",
    "\n",
    "    model.add(Conv2D(512, (3, 3), activation='relu'))\n",
    "    model.add(Conv2D(512, (3, 3), activation='relu'))\n",
    "    model.add(BatchNormalization())\n",
    "    model.add(MaxPooling2D((2, 2)))\n",
    "\n",
    "    # Flatten layer to transition from convolutional to fully connected layers\n",
    "    model.add(Flatten())\n",
    "\n",
    "    # Fully connected layers\n",
    "    model.add(Dense(1024, activation='relu'))\n",
    "    model.add(Dropout(0.5))\n",
    "    model.add(Dense(1023, activation='relu'))\n",
    "    model.add(Dropout(0.5))\n",
    "    model.add(Dense(2, activation='softmax'))  # Output layer with sigmoid activation for binary classification\n",
    "\n",
    "    return model\n"
   ]
  },
  {
   "cell_type": "markdown",
   "metadata": {},
   "source": [
    "## V3 \n",
    "https://www.mdpi.com/2079-9292/11/1/26"
   ]
  },
  {
   "cell_type": "code",
   "execution_count": 19,
   "metadata": {},
   "outputs": [],
   "source": [
    "# Define the model\n",
    "def createV3Model():\n",
    "    model_name = 'v3'\n",
    "    model = Sequential()\n",
    "\n",
    "    # Convolutional layers\n",
    "    model.add(Conv2D(20, (5, 5), activation='relu', input_shape=(256, 256, 3)))\n",
    "    model.add(MaxPooling2D((2, 2)))\n",
    "\n",
    "    model.add(Conv2D(32, (3, 3), activation='relu'))\n",
    "    model.add(MaxPooling2D((2, 2)))\n",
    "\n",
    "    model.add(Conv2D(40, (3, 3), activation='relu'))\n",
    "    model.add(MaxPooling2D((2, 2)))\n",
    "\n",
    "    # Flatten layer to transition from convolutional to fully connected layers\n",
    "    model.add(Flatten())\n",
    "\n",
    "    # Fully connected layers\n",
    "    model.add(Dense(1024, activation='relu'))\n",
    "    model.add(Dropout(0.5))\n",
    "    model.add(Dense(1023, activation='relu'))\n",
    "    model.add(Dropout(0.5))\n",
    "    model.add(Dense(2, activation='softmax'))  # Output layer with sigmoid activation for binary classification\n",
    "\n",
    "    return model"
   ]
  },
  {
   "cell_type": "markdown",
   "metadata": {},
   "source": [
    "## V4\n",
    "VGG Based\n",
    "https://ieeexplore.ieee.org/abstract/document/9344603/figures#figures\n",
    "\n",
    "\n",
    "Double BN\n",
    "Epoch 8/10\n",
    "125/125 [==============================] - 65s 499ms/step - loss: 0.4171 - accuracy: 0.8135 - val_loss: 0.4521 - val_accuracy: 0.8190\n",
    "Epoch 9/10\n",
    "125/125 [==============================] - 64s 490ms/step - loss: 0.4166 - accuracy: 0.8083 - val_loss: 0.4217 - val_accuracy: 0.8220\n",
    "Epoch 10/10\n",
    "125/125 [==============================] - 65s 489ms/step - loss: 0.4213 - accuracy: 0.8073 - val_loss: 0.5034 - val_accuracy: 0.7900"
   ]
  },
  {
   "cell_type": "code",
   "execution_count": 20,
   "metadata": {},
   "outputs": [],
   "source": [
    "# check vggg structure\n",
    "\n",
    "# Load pre-trained VGG model\n",
    "# vgg16 = VGG16(weights='imagenet', include_top=False)\n",
    "\n",
    "# Print the list of layers in the vgg16\n",
    "# for i, layer in enumerate(vgg16.layers[:-4]):\n",
    "#     print(\"Layer {}: {}\".format(i, layer.name))"
   ]
  },
  {
   "cell_type": "code",
   "execution_count": 26,
   "metadata": {},
   "outputs": [],
   "source": [
    "model_name = 'v4'\n",
    "\n",
    "def createV4Model():\n",
    "    base_model = VGG16(\n",
    "        weights='imagenet',  # Load weights pre-trained on ImageNet.\n",
    "        input_shape=(256, 256, 3),\n",
    "        include_top=False)\n",
    "\n",
    "    # Freeze all layers except the last convolutional block\n",
    "    for layer in base_model.layers[:-4]:\n",
    "        layer.trainable = False\n",
    "\n",
    "    model = Sequential()\n",
    "    model.add(base_model)\n",
    "    model.add(BatchNormalization())\n",
    "    model.add(Flatten())\n",
    "    # model.add(Dense(512, activation='relu'))\n",
    "    model.add(Dense(256, activation='relu'))\n",
    "    model.add(Dense(128, activation='relu'))\n",
    "    model.add(BatchNormalization())\n",
    "    model.add(Dense(2, activation='softmax'))\n",
    "\n",
    "    return model"
   ]
  },
  {
   "cell_type": "markdown",
   "metadata": {},
   "source": [
    "# Compile"
   ]
  },
  {
   "cell_type": "code",
   "execution_count": 22,
   "metadata": {},
   "outputs": [],
   "source": [
    "# Compile the model\n",
    "def compile_model(model):\n",
    "    model.compile(optimizer='adam', loss='categorical_crossentropy', metrics=['accuracy', AUC(name='auc'), Recall(name='recall')])"
   ]
  },
  {
   "cell_type": "markdown",
   "metadata": {},
   "source": [
    "# Train"
   ]
  },
  {
   "cell_type": "code",
   "execution_count": 23,
   "metadata": {},
   "outputs": [],
   "source": [
    "def start_train(model, epoch):\n",
    "    # Define EarlyStopping callback\n",
    "    early_stopping = EarlyStopping(monitor='val_loss', patience=20, restore_best_weights=True)\n",
    "\n",
    "    history = model.fit(x=train_image_generator,\n",
    "            epochs=epoch,\n",
    "            workers=16,\n",
    "            batch_size=64,\n",
    "            validation_data=val_image_generator,\n",
    "            callbacks=[early_stopping]\n",
    "    )\n",
    "\n",
    "    return history"
   ]
  },
  {
   "cell_type": "code",
   "execution_count": 24,
   "metadata": {},
   "outputs": [],
   "source": [
    "def save_model_and_history(model, history, model_name):\n",
    "    model.save(f'./weights/{model_name}')\n",
    "\n",
    "    # Save history\n",
    "    history_df = pd.DataFrame(history.history)\n",
    "\n",
    "    # Save to CSV\n",
    "    history_df.to_csv(f'./weights/{model_name}/training_history.csv', index=False)\n",
    "\n",
    "    return history_df"
   ]
  },
  {
   "cell_type": "code",
   "execution_count": 27,
   "metadata": {},
   "outputs": [
    {
     "name": "stdout",
     "output_type": "stream",
     "text": [
      "Epoch 1/200\n",
      "125/125 [==============================] - 47s 292ms/step - loss: 0.6828 - accuracy: 0.6298 - auc: 0.6716 - recall: 0.6298 - val_loss: 1.2653 - val_accuracy: 0.6030 - val_auc: 0.6633 - val_recall: 0.6030\n",
      "Epoch 2/200\n",
      "125/125 [==============================] - 22s 173ms/step - loss: 0.5480 - accuracy: 0.7207 - auc: 0.7990 - recall: 0.7207 - val_loss: 1.6747 - val_accuracy: 0.5100 - val_auc: 0.6527 - val_recall: 0.5100\n",
      "Epoch 3/200\n",
      "125/125 [==============================] - 22s 171ms/step - loss: 0.5121 - accuracy: 0.7347 - auc: 0.8240 - recall: 0.7347 - val_loss: 3.8459 - val_accuracy: 0.5000 - val_auc: 0.5025 - val_recall: 0.5000\n",
      "Epoch 4/200\n",
      "125/125 [==============================] - 22s 172ms/step - loss: 0.4889 - accuracy: 0.7545 - auc: 0.8398 - recall: 0.7545 - val_loss: 1.2176 - val_accuracy: 0.5730 - val_auc: 0.6829 - val_recall: 0.5730\n",
      "Epoch 5/200\n",
      "125/125 [==============================] - 22s 172ms/step - loss: 0.4764 - accuracy: 0.7610 - auc: 0.8510 - recall: 0.7610 - val_loss: 0.9488 - val_accuracy: 0.6130 - val_auc: 0.7107 - val_recall: 0.6130\n",
      "Epoch 6/200\n",
      "125/125 [==============================] - 22s 172ms/step - loss: 0.4509 - accuracy: 0.7747 - auc: 0.8668 - recall: 0.7747 - val_loss: 0.4809 - val_accuracy: 0.7860 - val_auc: 0.8591 - val_recall: 0.7860\n",
      "Epoch 7/200\n",
      "125/125 [==============================] - 22s 172ms/step - loss: 0.4454 - accuracy: 0.7692 - auc: 0.8677 - recall: 0.7692 - val_loss: 0.6084 - val_accuracy: 0.7050 - val_auc: 0.8207 - val_recall: 0.7050\n",
      "Epoch 8/200\n",
      "125/125 [==============================] - 22s 172ms/step - loss: 0.4232 - accuracy: 0.7872 - auc: 0.8831 - recall: 0.7872 - val_loss: 0.6900 - val_accuracy: 0.7330 - val_auc: 0.8222 - val_recall: 0.7330\n",
      "Epoch 9/200\n",
      "125/125 [==============================] - 22s 173ms/step - loss: 0.4465 - accuracy: 0.7812 - auc: 0.8716 - recall: 0.7812 - val_loss: 0.4600 - val_accuracy: 0.7690 - val_auc: 0.8655 - val_recall: 0.7690\n",
      "Epoch 10/200\n",
      "125/125 [==============================] - 22s 172ms/step - loss: 0.4304 - accuracy: 0.7903 - auc: 0.8811 - recall: 0.7903 - val_loss: 0.8266 - val_accuracy: 0.6400 - val_auc: 0.7473 - val_recall: 0.6400\n",
      "Epoch 11/200\n",
      "125/125 [==============================] - 22s 172ms/step - loss: 0.4095 - accuracy: 0.8008 - auc: 0.8916 - recall: 0.8008 - val_loss: 0.5672 - val_accuracy: 0.7570 - val_auc: 0.8466 - val_recall: 0.7570\n",
      "Epoch 12/200\n",
      "125/125 [==============================] - 22s 173ms/step - loss: 0.3928 - accuracy: 0.8080 - auc: 0.9010 - recall: 0.8080 - val_loss: 0.4462 - val_accuracy: 0.7820 - val_auc: 0.8865 - val_recall: 0.7820\n",
      "Epoch 13/200\n",
      "125/125 [==============================] - 22s 174ms/step - loss: 0.4061 - accuracy: 0.8005 - auc: 0.8942 - recall: 0.8005 - val_loss: 1.3806 - val_accuracy: 0.6230 - val_auc: 0.7380 - val_recall: 0.6230\n",
      "Epoch 14/200\n",
      "125/125 [==============================] - 23s 174ms/step - loss: 0.3890 - accuracy: 0.8092 - auc: 0.9032 - recall: 0.8092 - val_loss: 0.5126 - val_accuracy: 0.7630 - val_auc: 0.8564 - val_recall: 0.7630\n",
      "Epoch 15/200\n",
      "125/125 [==============================] - 23s 176ms/step - loss: 0.3867 - accuracy: 0.8065 - auc: 0.9038 - recall: 0.8065 - val_loss: 0.7214 - val_accuracy: 0.6770 - val_auc: 0.7850 - val_recall: 0.6770\n",
      "Epoch 16/200\n",
      "125/125 [==============================] - 22s 173ms/step - loss: 0.3703 - accuracy: 0.8215 - auc: 0.9133 - recall: 0.8215 - val_loss: 0.5254 - val_accuracy: 0.7820 - val_auc: 0.8651 - val_recall: 0.7820\n",
      "Epoch 17/200\n",
      "125/125 [==============================] - 23s 174ms/step - loss: 0.3619 - accuracy: 0.8288 - auc: 0.9175 - recall: 0.8288 - val_loss: 0.5391 - val_accuracy: 0.7530 - val_auc: 0.8387 - val_recall: 0.7530\n",
      "Epoch 18/200\n",
      "125/125 [==============================] - 23s 176ms/step - loss: 0.3576 - accuracy: 0.8342 - auc: 0.9201 - recall: 0.8342 - val_loss: 0.4546 - val_accuracy: 0.8010 - val_auc: 0.8889 - val_recall: 0.8010\n",
      "Epoch 19/200\n",
      "125/125 [==============================] - 23s 178ms/step - loss: 0.3528 - accuracy: 0.8320 - auc: 0.9214 - recall: 0.8320 - val_loss: 0.4537 - val_accuracy: 0.7880 - val_auc: 0.8758 - val_recall: 0.7880\n",
      "Epoch 20/200\n",
      "125/125 [==============================] - 23s 175ms/step - loss: 0.3318 - accuracy: 0.8410 - auc: 0.9307 - recall: 0.8410 - val_loss: 0.4375 - val_accuracy: 0.7920 - val_auc: 0.8897 - val_recall: 0.7920\n",
      "Epoch 21/200\n",
      "125/125 [==============================] - 23s 174ms/step - loss: 0.3318 - accuracy: 0.8367 - auc: 0.9303 - recall: 0.8367 - val_loss: 0.5142 - val_accuracy: 0.7770 - val_auc: 0.8640 - val_recall: 0.7770\n",
      "Epoch 22/200\n",
      "125/125 [==============================] - 23s 174ms/step - loss: 0.3243 - accuracy: 0.8425 - auc: 0.9334 - recall: 0.8425 - val_loss: 0.4943 - val_accuracy: 0.7840 - val_auc: 0.8829 - val_recall: 0.7840\n",
      "Epoch 23/200\n",
      "125/125 [==============================] - 23s 174ms/step - loss: 0.3268 - accuracy: 0.8432 - auc: 0.9325 - recall: 0.8432 - val_loss: 0.4696 - val_accuracy: 0.7790 - val_auc: 0.8765 - val_recall: 0.7790\n",
      "Epoch 24/200\n",
      "125/125 [==============================] - 23s 174ms/step - loss: 0.3069 - accuracy: 0.8493 - auc: 0.9400 - recall: 0.8493 - val_loss: 0.5325 - val_accuracy: 0.7980 - val_auc: 0.8838 - val_recall: 0.7980\n",
      "Epoch 25/200\n",
      "125/125 [==============================] - 23s 175ms/step - loss: 0.3121 - accuracy: 0.8518 - auc: 0.9384 - recall: 0.8518 - val_loss: 0.4813 - val_accuracy: 0.7940 - val_auc: 0.8866 - val_recall: 0.7940\n",
      "Epoch 26/200\n",
      "125/125 [==============================] - 23s 175ms/step - loss: 0.3058 - accuracy: 0.8528 - auc: 0.9410 - recall: 0.8528 - val_loss: 0.5138 - val_accuracy: 0.7690 - val_auc: 0.8629 - val_recall: 0.7690\n",
      "Epoch 27/200\n",
      "125/125 [==============================] - 23s 174ms/step - loss: 0.2949 - accuracy: 0.8585 - auc: 0.9452 - recall: 0.8585 - val_loss: 0.6581 - val_accuracy: 0.7130 - val_auc: 0.8206 - val_recall: 0.7130\n",
      "Epoch 28/200\n",
      "125/125 [==============================] - 22s 173ms/step - loss: 0.2925 - accuracy: 0.8562 - auc: 0.9457 - recall: 0.8562 - val_loss: 0.5867 - val_accuracy: 0.7720 - val_auc: 0.8621 - val_recall: 0.7720\n",
      "Epoch 29/200\n",
      "125/125 [==============================] - 22s 173ms/step - loss: 0.2891 - accuracy: 0.8622 - auc: 0.9476 - recall: 0.8622 - val_loss: 0.6060 - val_accuracy: 0.7710 - val_auc: 0.8621 - val_recall: 0.7710\n",
      "Epoch 30/200\n",
      "125/125 [==============================] - 22s 173ms/step - loss: 0.2776 - accuracy: 0.8615 - auc: 0.9511 - recall: 0.8615 - val_loss: 0.4644 - val_accuracy: 0.7950 - val_auc: 0.8911 - val_recall: 0.7950\n",
      "Epoch 31/200\n",
      "125/125 [==============================] - 22s 173ms/step - loss: 0.2808 - accuracy: 0.8602 - auc: 0.9501 - recall: 0.8602 - val_loss: 0.4331 - val_accuracy: 0.8060 - val_auc: 0.9000 - val_recall: 0.8060\n",
      "Epoch 32/200\n",
      "125/125 [==============================] - 22s 173ms/step - loss: 0.2770 - accuracy: 0.8662 - auc: 0.9520 - recall: 0.8662 - val_loss: 0.4714 - val_accuracy: 0.8030 - val_auc: 0.8926 - val_recall: 0.8030\n",
      "Epoch 33/200\n",
      "125/125 [==============================] - 22s 173ms/step - loss: 0.2671 - accuracy: 0.8723 - auc: 0.9553 - recall: 0.8723 - val_loss: 0.4803 - val_accuracy: 0.8080 - val_auc: 0.8932 - val_recall: 0.8080\n",
      "Epoch 34/200\n",
      "125/125 [==============================] - 22s 173ms/step - loss: 0.2730 - accuracy: 0.8687 - auc: 0.9531 - recall: 0.8687 - val_loss: 0.4856 - val_accuracy: 0.7910 - val_auc: 0.8855 - val_recall: 0.7910\n",
      "Epoch 35/200\n",
      "125/125 [==============================] - 22s 173ms/step - loss: 0.2612 - accuracy: 0.8777 - auc: 0.9574 - recall: 0.8777 - val_loss: 0.5165 - val_accuracy: 0.8120 - val_auc: 0.8858 - val_recall: 0.8120\n",
      "Epoch 36/200\n",
      "125/125 [==============================] - 22s 173ms/step - loss: 0.2495 - accuracy: 0.8820 - auc: 0.9609 - recall: 0.8820 - val_loss: 0.4979 - val_accuracy: 0.8000 - val_auc: 0.8915 - val_recall: 0.8000\n",
      "Epoch 37/200\n",
      "125/125 [==============================] - 22s 173ms/step - loss: 0.2501 - accuracy: 0.8815 - auc: 0.9606 - recall: 0.8815 - val_loss: 0.5027 - val_accuracy: 0.7840 - val_auc: 0.8895 - val_recall: 0.7840\n",
      "Epoch 38/200\n",
      "125/125 [==============================] - 22s 173ms/step - loss: 0.2495 - accuracy: 0.8800 - auc: 0.9610 - recall: 0.8800 - val_loss: 0.4597 - val_accuracy: 0.8020 - val_auc: 0.8921 - val_recall: 0.8020\n",
      "Epoch 39/200\n",
      "125/125 [==============================] - 22s 173ms/step - loss: 0.2386 - accuracy: 0.8875 - auc: 0.9644 - recall: 0.8875 - val_loss: 0.5478 - val_accuracy: 0.7760 - val_auc: 0.8709 - val_recall: 0.7760\n",
      "Epoch 40/200\n",
      "125/125 [==============================] - 22s 173ms/step - loss: 0.2394 - accuracy: 0.8925 - auc: 0.9647 - recall: 0.8925 - val_loss: 0.6054 - val_accuracy: 0.7780 - val_auc: 0.8678 - val_recall: 0.7780\n",
      "Epoch 41/200\n",
      "125/125 [==============================] - 23s 173ms/step - loss: 0.2358 - accuracy: 0.8857 - auc: 0.9656 - recall: 0.8857 - val_loss: 0.5154 - val_accuracy: 0.7960 - val_auc: 0.8874 - val_recall: 0.7960\n",
      "Epoch 42/200\n",
      "125/125 [==============================] - 22s 173ms/step - loss: 0.2358 - accuracy: 0.8888 - auc: 0.9651 - recall: 0.8888 - val_loss: 0.5499 - val_accuracy: 0.8140 - val_auc: 0.8905 - val_recall: 0.8140\n",
      "Epoch 43/200\n",
      "125/125 [==============================] - 22s 173ms/step - loss: 0.2308 - accuracy: 0.8928 - auc: 0.9670 - recall: 0.8928 - val_loss: 0.7163 - val_accuracy: 0.7550 - val_auc: 0.8587 - val_recall: 0.7550\n",
      "Epoch 44/200\n",
      "125/125 [==============================] - 22s 173ms/step - loss: 0.2269 - accuracy: 0.8898 - auc: 0.9675 - recall: 0.8898 - val_loss: 0.6176 - val_accuracy: 0.7850 - val_auc: 0.8757 - val_recall: 0.7850\n",
      "Epoch 45/200\n",
      "125/125 [==============================] - 22s 173ms/step - loss: 0.2267 - accuracy: 0.8920 - auc: 0.9677 - recall: 0.8920 - val_loss: 0.7022 - val_accuracy: 0.7510 - val_auc: 0.8494 - val_recall: 0.7510\n",
      "Epoch 46/200\n",
      "125/125 [==============================] - 22s 173ms/step - loss: 0.2140 - accuracy: 0.8982 - auc: 0.9715 - recall: 0.8982 - val_loss: 0.7264 - val_accuracy: 0.7600 - val_auc: 0.8429 - val_recall: 0.7600\n",
      "Epoch 47/200\n",
      "125/125 [==============================] - 22s 173ms/step - loss: 0.2186 - accuracy: 0.8970 - auc: 0.9700 - recall: 0.8970 - val_loss: 0.5467 - val_accuracy: 0.7990 - val_auc: 0.8826 - val_recall: 0.7990\n",
      "Epoch 48/200\n",
      "125/125 [==============================] - 22s 173ms/step - loss: 0.2261 - accuracy: 0.8940 - auc: 0.9682 - recall: 0.8940 - val_loss: 0.5184 - val_accuracy: 0.8000 - val_auc: 0.8911 - val_recall: 0.8000\n",
      "Epoch 49/200\n",
      "125/125 [==============================] - 22s 173ms/step - loss: 0.2056 - accuracy: 0.9028 - auc: 0.9735 - recall: 0.9028 - val_loss: 0.5673 - val_accuracy: 0.8090 - val_auc: 0.8865 - val_recall: 0.8090\n",
      "Epoch 50/200\n",
      "125/125 [==============================] - 22s 173ms/step - loss: 0.2079 - accuracy: 0.8992 - auc: 0.9729 - recall: 0.8992 - val_loss: 0.5088 - val_accuracy: 0.8110 - val_auc: 0.8974 - val_recall: 0.8110\n",
      "Epoch 51/200\n",
      "125/125 [==============================] - 22s 173ms/step - loss: 0.1976 - accuracy: 0.9032 - auc: 0.9753 - recall: 0.9032 - val_loss: 0.5440 - val_accuracy: 0.8040 - val_auc: 0.8912 - val_recall: 0.8040\n"
     ]
    },
    {
     "name": "stderr",
     "output_type": "stream",
     "text": [
      "WARNING:absl:Found untraced functions such as _jit_compiled_convolution_op, _jit_compiled_convolution_op, _jit_compiled_convolution_op, _jit_compiled_convolution_op, _jit_compiled_convolution_op while saving (showing 5 of 13). These functions will not be directly callable after loading.\n"
     ]
    },
    {
     "name": "stdout",
     "output_type": "stream",
     "text": [
      "INFO:tensorflow:Assets written to: ./weights/vgg2densebn_200epoch_not_denoised\\assets\n"
     ]
    },
    {
     "name": "stderr",
     "output_type": "stream",
     "text": [
      "INFO:tensorflow:Assets written to: ./weights/vgg2densebn_200epoch_not_denoised\\assets\n"
     ]
    }
   ],
   "source": [
    "model = createV4Model()\n",
    "compile_model(model)\n",
    "history = start_train(model, 200)\n",
    "history_df = save_model_and_history(model, history, 'vgg2densebn_200epoch_not_denoised')"
   ]
  },
  {
   "cell_type": "code",
   "execution_count": 47,
   "metadata": {},
   "outputs": [
    {
     "name": "stdout",
     "output_type": "stream",
     "text": [
      "Epoch 1/200\n",
      "125/125 [==============================] - 33s 252ms/step - loss: 3.0512 - accuracy: 0.5240 - auc: 0.5298 - recall: 0.5240 - val_loss: 0.9225 - val_accuracy: 0.5510 - val_auc: 0.5522 - val_recall: 0.5510\n",
      "Epoch 2/200\n",
      "125/125 [==============================] - 31s 242ms/step - loss: 0.9696 - accuracy: 0.5428 - auc: 0.5529 - recall: 0.5428 - val_loss: 0.7168 - val_accuracy: 0.5150 - val_auc: 0.5100 - val_recall: 0.5150\n",
      "Epoch 3/200\n",
      "125/125 [==============================] - 31s 241ms/step - loss: 0.7731 - accuracy: 0.5760 - auc: 0.5960 - recall: 0.5760 - val_loss: 0.6593 - val_accuracy: 0.5990 - val_auc: 0.6518 - val_recall: 0.5990\n",
      "Epoch 4/200\n",
      "125/125 [==============================] - 31s 240ms/step - loss: 0.6961 - accuracy: 0.5965 - auc: 0.6278 - recall: 0.5965 - val_loss: 0.7200 - val_accuracy: 0.5310 - val_auc: 0.5711 - val_recall: 0.5310\n",
      "Epoch 5/200\n",
      "125/125 [==============================] - 31s 243ms/step - loss: 0.6852 - accuracy: 0.6148 - auc: 0.6441 - recall: 0.6148 - val_loss: 0.6711 - val_accuracy: 0.6270 - val_auc: 0.6417 - val_recall: 0.6270\n",
      "Epoch 6/200\n",
      "125/125 [==============================] - 31s 243ms/step - loss: 0.6754 - accuracy: 0.6112 - auc: 0.6424 - recall: 0.6112 - val_loss: 0.7043 - val_accuracy: 0.5430 - val_auc: 0.6047 - val_recall: 0.5430\n",
      "Epoch 7/200\n",
      "125/125 [==============================] - 31s 241ms/step - loss: 0.6693 - accuracy: 0.6255 - auc: 0.6646 - recall: 0.6255 - val_loss: 0.7004 - val_accuracy: 0.5320 - val_auc: 0.5873 - val_recall: 0.5320\n",
      "Epoch 8/200\n",
      "125/125 [==============================] - 31s 242ms/step - loss: 0.6555 - accuracy: 0.6315 - auc: 0.6734 - recall: 0.6315 - val_loss: 0.6418 - val_accuracy: 0.6330 - val_auc: 0.6813 - val_recall: 0.6330\n",
      "Epoch 9/200\n",
      "125/125 [==============================] - 31s 242ms/step - loss: 0.6522 - accuracy: 0.6265 - auc: 0.6756 - recall: 0.6265 - val_loss: 1.0825 - val_accuracy: 0.5160 - val_auc: 0.5568 - val_recall: 0.5160\n",
      "Epoch 10/200\n",
      "125/125 [==============================] - 31s 244ms/step - loss: 0.6634 - accuracy: 0.6070 - auc: 0.6544 - recall: 0.6070 - val_loss: 0.6214 - val_accuracy: 0.6620 - val_auc: 0.7210 - val_recall: 0.6620\n",
      "Epoch 11/200\n",
      "125/125 [==============================] - 31s 241ms/step - loss: 0.6582 - accuracy: 0.6263 - auc: 0.6704 - recall: 0.6263 - val_loss: 0.6367 - val_accuracy: 0.6320 - val_auc: 0.6885 - val_recall: 0.6320\n",
      "Epoch 12/200\n",
      "125/125 [==============================] - 31s 243ms/step - loss: 0.6477 - accuracy: 0.6332 - auc: 0.6821 - recall: 0.6332 - val_loss: 0.6580 - val_accuracy: 0.5700 - val_auc: 0.6364 - val_recall: 0.5700\n",
      "Epoch 13/200\n",
      "125/125 [==============================] - 31s 241ms/step - loss: 0.6534 - accuracy: 0.6313 - auc: 0.6782 - recall: 0.6313 - val_loss: 0.6149 - val_accuracy: 0.6660 - val_auc: 0.7150 - val_recall: 0.6660\n",
      "Epoch 14/200\n",
      "125/125 [==============================] - 31s 241ms/step - loss: 0.6419 - accuracy: 0.6450 - auc: 0.6939 - recall: 0.6450 - val_loss: 0.7362 - val_accuracy: 0.5900 - val_auc: 0.6313 - val_recall: 0.5900\n",
      "Epoch 15/200\n",
      "125/125 [==============================] - 31s 243ms/step - loss: 0.6440 - accuracy: 0.6395 - auc: 0.6922 - recall: 0.6395 - val_loss: 0.7158 - val_accuracy: 0.5550 - val_auc: 0.5771 - val_recall: 0.5550\n",
      "Epoch 16/200\n",
      "125/125 [==============================] - 31s 245ms/step - loss: 0.6462 - accuracy: 0.6288 - auc: 0.6883 - recall: 0.6288 - val_loss: 0.6977 - val_accuracy: 0.6100 - val_auc: 0.6563 - val_recall: 0.6100\n",
      "Epoch 17/200\n",
      "125/125 [==============================] - 31s 245ms/step - loss: 0.6311 - accuracy: 0.6557 - auc: 0.7075 - recall: 0.6557 - val_loss: 0.7103 - val_accuracy: 0.5470 - val_auc: 0.6064 - val_recall: 0.5470\n",
      "Epoch 18/200\n",
      "125/125 [==============================] - 31s 243ms/step - loss: 0.6303 - accuracy: 0.6645 - auc: 0.7196 - recall: 0.6645 - val_loss: 0.7506 - val_accuracy: 0.5400 - val_auc: 0.5883 - val_recall: 0.5400\n",
      "Epoch 19/200\n",
      "125/125 [==============================] - 31s 245ms/step - loss: 0.6320 - accuracy: 0.6540 - auc: 0.7139 - recall: 0.6540 - val_loss: 0.6342 - val_accuracy: 0.6290 - val_auc: 0.6940 - val_recall: 0.6290\n",
      "Epoch 20/200\n",
      "125/125 [==============================] - 32s 252ms/step - loss: 0.6273 - accuracy: 0.6618 - auc: 0.7188 - recall: 0.6618 - val_loss: 0.6138 - val_accuracy: 0.6830 - val_auc: 0.7357 - val_recall: 0.6830\n",
      "Epoch 21/200\n",
      "125/125 [==============================] - 36s 280ms/step - loss: 0.6178 - accuracy: 0.6658 - auc: 0.7321 - recall: 0.6658 - val_loss: 0.5921 - val_accuracy: 0.6670 - val_auc: 0.7462 - val_recall: 0.6670\n",
      "Epoch 22/200\n",
      "125/125 [==============================] - 32s 249ms/step - loss: 0.6234 - accuracy: 0.6607 - auc: 0.7290 - recall: 0.6607 - val_loss: 0.6548 - val_accuracy: 0.6400 - val_auc: 0.6635 - val_recall: 0.6400\n",
      "Epoch 23/200\n",
      "125/125 [==============================] - 33s 256ms/step - loss: 0.6325 - accuracy: 0.6650 - auc: 0.7228 - recall: 0.6650 - val_loss: 0.6587 - val_accuracy: 0.6120 - val_auc: 0.6636 - val_recall: 0.6120\n",
      "Epoch 24/200\n",
      "125/125 [==============================] - 31s 245ms/step - loss: 0.6268 - accuracy: 0.6472 - auc: 0.7098 - recall: 0.6472 - val_loss: 0.5842 - val_accuracy: 0.6840 - val_auc: 0.7563 - val_recall: 0.6840\n",
      "Epoch 25/200\n",
      "125/125 [==============================] - 36s 286ms/step - loss: 0.6176 - accuracy: 0.6777 - auc: 0.7399 - recall: 0.6777 - val_loss: 0.6156 - val_accuracy: 0.6370 - val_auc: 0.7154 - val_recall: 0.6370\n",
      "Epoch 26/200\n",
      "125/125 [==============================] - 32s 249ms/step - loss: 0.6034 - accuracy: 0.6775 - auc: 0.7499 - recall: 0.6775 - val_loss: 0.5956 - val_accuracy: 0.6470 - val_auc: 0.7295 - val_recall: 0.6470\n",
      "Epoch 27/200\n",
      "125/125 [==============================] - 39s 305ms/step - loss: 0.6033 - accuracy: 0.6795 - auc: 0.7538 - recall: 0.6795 - val_loss: 0.5493 - val_accuracy: 0.7110 - val_auc: 0.7886 - val_recall: 0.7110\n",
      "Epoch 28/200\n",
      "125/125 [==============================] - 37s 286ms/step - loss: 0.6054 - accuracy: 0.6787 - auc: 0.7475 - recall: 0.6787 - val_loss: 0.7125 - val_accuracy: 0.5940 - val_auc: 0.6601 - val_recall: 0.5940\n",
      "Epoch 29/200\n",
      "125/125 [==============================] - 29s 220ms/step - loss: 0.5939 - accuracy: 0.6862 - auc: 0.7593 - recall: 0.6862 - val_loss: 0.5426 - val_accuracy: 0.7050 - val_auc: 0.8058 - val_recall: 0.7050\n",
      "Epoch 30/200\n",
      "125/125 [==============================] - 28s 215ms/step - loss: 0.5865 - accuracy: 0.6917 - auc: 0.7630 - recall: 0.6917 - val_loss: 0.6082 - val_accuracy: 0.6740 - val_auc: 0.7663 - val_recall: 0.6740\n",
      "Epoch 31/200\n",
      "125/125 [==============================] - 32s 247ms/step - loss: 0.5930 - accuracy: 0.6865 - auc: 0.7587 - recall: 0.6865 - val_loss: 0.7083 - val_accuracy: 0.5950 - val_auc: 0.6616 - val_recall: 0.5950\n",
      "Epoch 32/200\n",
      "125/125 [==============================] - 32s 251ms/step - loss: 0.5941 - accuracy: 0.6973 - auc: 0.7615 - recall: 0.6973 - val_loss: 0.6905 - val_accuracy: 0.6790 - val_auc: 0.7390 - val_recall: 0.6790\n",
      "Epoch 33/200\n",
      "125/125 [==============================] - 27s 209ms/step - loss: 0.5893 - accuracy: 0.6892 - auc: 0.7635 - recall: 0.6892 - val_loss: 0.5906 - val_accuracy: 0.6930 - val_auc: 0.7646 - val_recall: 0.6930\n",
      "Epoch 34/200\n",
      "125/125 [==============================] - 32s 246ms/step - loss: 0.5841 - accuracy: 0.6927 - auc: 0.7629 - recall: 0.6927 - val_loss: 0.5503 - val_accuracy: 0.7200 - val_auc: 0.7920 - val_recall: 0.7200\n",
      "Epoch 35/200\n",
      "125/125 [==============================] - 29s 225ms/step - loss: 0.5671 - accuracy: 0.7078 - auc: 0.7844 - recall: 0.7078 - val_loss: 0.5471 - val_accuracy: 0.6960 - val_auc: 0.7919 - val_recall: 0.6960\n",
      "Epoch 36/200\n",
      "125/125 [==============================] - 28s 212ms/step - loss: 0.5580 - accuracy: 0.7057 - auc: 0.7921 - recall: 0.7057 - val_loss: 0.5650 - val_accuracy: 0.6860 - val_auc: 0.7667 - val_recall: 0.6860\n",
      "Epoch 37/200\n",
      "125/125 [==============================] - 28s 213ms/step - loss: 0.5645 - accuracy: 0.7195 - auc: 0.7886 - recall: 0.7195 - val_loss: 0.4860 - val_accuracy: 0.7500 - val_auc: 0.8416 - val_recall: 0.7500\n",
      "Epoch 38/200\n",
      "125/125 [==============================] - 28s 215ms/step - loss: 0.5565 - accuracy: 0.7195 - auc: 0.7968 - recall: 0.7195 - val_loss: 0.5438 - val_accuracy: 0.7070 - val_auc: 0.7913 - val_recall: 0.7070\n",
      "Epoch 39/200\n",
      "125/125 [==============================] - 28s 217ms/step - loss: 0.5458 - accuracy: 0.7253 - auc: 0.8022 - recall: 0.7253 - val_loss: 0.6521 - val_accuracy: 0.7100 - val_auc: 0.7821 - val_recall: 0.7100\n",
      "Epoch 40/200\n",
      "125/125 [==============================] - 28s 216ms/step - loss: 0.5396 - accuracy: 0.7308 - auc: 0.8101 - recall: 0.7308 - val_loss: 0.5164 - val_accuracy: 0.7330 - val_auc: 0.8190 - val_recall: 0.7330\n",
      "Epoch 41/200\n",
      "125/125 [==============================] - 28s 216ms/step - loss: 0.5319 - accuracy: 0.7335 - auc: 0.8147 - recall: 0.7335 - val_loss: 0.5115 - val_accuracy: 0.7190 - val_auc: 0.8181 - val_recall: 0.7190\n",
      "Epoch 42/200\n",
      "125/125 [==============================] - 30s 232ms/step - loss: 0.5272 - accuracy: 0.7212 - auc: 0.8126 - recall: 0.7212 - val_loss: 0.5163 - val_accuracy: 0.7300 - val_auc: 0.8174 - val_recall: 0.7300\n",
      "Epoch 43/200\n",
      "125/125 [==============================] - 32s 249ms/step - loss: 0.5212 - accuracy: 0.7283 - auc: 0.8202 - recall: 0.7283 - val_loss: 0.4930 - val_accuracy: 0.7500 - val_auc: 0.8376 - val_recall: 0.7500\n",
      "Epoch 44/200\n",
      "125/125 [==============================] - 28s 220ms/step - loss: 0.5289 - accuracy: 0.7355 - auc: 0.8169 - recall: 0.7355 - val_loss: 0.4826 - val_accuracy: 0.7640 - val_auc: 0.8470 - val_recall: 0.7640\n",
      "Epoch 45/200\n",
      "125/125 [==============================] - 28s 218ms/step - loss: 0.5292 - accuracy: 0.7255 - auc: 0.8125 - recall: 0.7255 - val_loss: 0.5445 - val_accuracy: 0.7100 - val_auc: 0.7952 - val_recall: 0.7100\n",
      "Epoch 46/200\n",
      "125/125 [==============================] - 35s 273ms/step - loss: 0.5147 - accuracy: 0.7415 - auc: 0.8294 - recall: 0.7415 - val_loss: 0.4954 - val_accuracy: 0.7290 - val_auc: 0.8325 - val_recall: 0.7290\n",
      "Epoch 47/200\n",
      "125/125 [==============================] - 29s 224ms/step - loss: 0.4952 - accuracy: 0.7580 - auc: 0.8415 - recall: 0.7580 - val_loss: 0.4967 - val_accuracy: 0.7360 - val_auc: 0.8311 - val_recall: 0.7360\n",
      "Epoch 48/200\n",
      "125/125 [==============================] - 30s 233ms/step - loss: 0.5022 - accuracy: 0.7470 - auc: 0.8370 - recall: 0.7470 - val_loss: 0.4823 - val_accuracy: 0.7630 - val_auc: 0.8519 - val_recall: 0.7630\n",
      "Epoch 49/200\n",
      "125/125 [==============================] - 31s 240ms/step - loss: 0.4931 - accuracy: 0.7573 - auc: 0.8451 - recall: 0.7573 - val_loss: 0.4948 - val_accuracy: 0.7590 - val_auc: 0.8494 - val_recall: 0.7590\n",
      "Epoch 50/200\n",
      "125/125 [==============================] - 31s 243ms/step - loss: 0.4945 - accuracy: 0.7575 - auc: 0.8448 - recall: 0.7575 - val_loss: 0.5425 - val_accuracy: 0.7130 - val_auc: 0.7972 - val_recall: 0.7130\n",
      "Epoch 51/200\n",
      "125/125 [==============================] - 31s 242ms/step - loss: 0.4773 - accuracy: 0.7665 - auc: 0.8519 - recall: 0.7665 - val_loss: 0.4846 - val_accuracy: 0.7590 - val_auc: 0.8486 - val_recall: 0.7590\n",
      "Epoch 52/200\n",
      "125/125 [==============================] - 33s 257ms/step - loss: 0.4728 - accuracy: 0.7688 - auc: 0.8566 - recall: 0.7688 - val_loss: 0.4342 - val_accuracy: 0.7890 - val_auc: 0.8801 - val_recall: 0.7890\n",
      "Epoch 53/200\n",
      "125/125 [==============================] - 28s 214ms/step - loss: 0.4816 - accuracy: 0.7592 - auc: 0.8530 - recall: 0.7592 - val_loss: 0.4833 - val_accuracy: 0.7450 - val_auc: 0.8397 - val_recall: 0.7450\n",
      "Epoch 54/200\n",
      "125/125 [==============================] - 35s 270ms/step - loss: 0.4583 - accuracy: 0.7807 - auc: 0.8687 - recall: 0.7807 - val_loss: 0.4586 - val_accuracy: 0.7840 - val_auc: 0.8673 - val_recall: 0.7840\n",
      "Epoch 55/200\n",
      "125/125 [==============================] - 33s 257ms/step - loss: 0.4688 - accuracy: 0.7722 - auc: 0.8626 - recall: 0.7722 - val_loss: 0.4662 - val_accuracy: 0.7760 - val_auc: 0.8613 - val_recall: 0.7760\n",
      "Epoch 56/200\n",
      "125/125 [==============================] - 33s 255ms/step - loss: 0.4577 - accuracy: 0.7853 - auc: 0.8683 - recall: 0.7853 - val_loss: 0.5360 - val_accuracy: 0.7170 - val_auc: 0.8056 - val_recall: 0.7170\n",
      "Epoch 57/200\n",
      "125/125 [==============================] - 29s 226ms/step - loss: 0.4719 - accuracy: 0.7732 - auc: 0.8613 - recall: 0.7732 - val_loss: 0.5008 - val_accuracy: 0.7430 - val_auc: 0.8308 - val_recall: 0.7430\n",
      "Epoch 58/200\n",
      "125/125 [==============================] - 33s 255ms/step - loss: 0.4471 - accuracy: 0.7895 - auc: 0.8779 - recall: 0.7895 - val_loss: 0.4919 - val_accuracy: 0.7540 - val_auc: 0.8451 - val_recall: 0.7540\n",
      "Epoch 59/200\n",
      "125/125 [==============================] - 31s 239ms/step - loss: 0.4581 - accuracy: 0.7705 - auc: 0.8642 - recall: 0.7705 - val_loss: 0.4713 - val_accuracy: 0.7640 - val_auc: 0.8575 - val_recall: 0.7640\n",
      "Epoch 60/200\n",
      "125/125 [==============================] - 30s 234ms/step - loss: 0.4489 - accuracy: 0.7837 - auc: 0.8738 - recall: 0.7837 - val_loss: 0.5152 - val_accuracy: 0.7480 - val_auc: 0.8300 - val_recall: 0.7480\n",
      "Epoch 61/200\n",
      "125/125 [==============================] - 31s 244ms/step - loss: 0.4397 - accuracy: 0.7830 - auc: 0.8779 - recall: 0.7830 - val_loss: 0.4069 - val_accuracy: 0.8100 - val_auc: 0.8999 - val_recall: 0.8100\n",
      "Epoch 62/200\n",
      "125/125 [==============================] - 31s 239ms/step - loss: 0.4314 - accuracy: 0.7918 - auc: 0.8828 - recall: 0.7918 - val_loss: 0.3995 - val_accuracy: 0.8090 - val_auc: 0.9042 - val_recall: 0.8090\n",
      "Epoch 63/200\n",
      "125/125 [==============================] - 31s 238ms/step - loss: 0.4360 - accuracy: 0.7910 - auc: 0.8807 - recall: 0.7910 - val_loss: 0.4956 - val_accuracy: 0.7460 - val_auc: 0.8355 - val_recall: 0.7460\n",
      "Epoch 64/200\n",
      "125/125 [==============================] - 31s 238ms/step - loss: 0.4448 - accuracy: 0.7875 - auc: 0.8777 - recall: 0.7875 - val_loss: 0.4253 - val_accuracy: 0.7920 - val_auc: 0.8899 - val_recall: 0.7920\n",
      "Epoch 65/200\n",
      "125/125 [==============================] - 31s 244ms/step - loss: 0.4234 - accuracy: 0.7970 - auc: 0.8875 - recall: 0.7970 - val_loss: 0.4415 - val_accuracy: 0.7850 - val_auc: 0.8765 - val_recall: 0.7850\n",
      "Epoch 66/200\n",
      "125/125 [==============================] - 33s 258ms/step - loss: 0.4232 - accuracy: 0.7943 - auc: 0.8878 - recall: 0.7943 - val_loss: 0.4626 - val_accuracy: 0.7690 - val_auc: 0.8600 - val_recall: 0.7690\n",
      "Epoch 67/200\n",
      "125/125 [==============================] - 32s 248ms/step - loss: 0.4356 - accuracy: 0.7908 - auc: 0.8833 - recall: 0.7908 - val_loss: 0.4294 - val_accuracy: 0.8030 - val_auc: 0.8885 - val_recall: 0.8030\n",
      "Epoch 68/200\n",
      "125/125 [==============================] - 30s 236ms/step - loss: 0.4179 - accuracy: 0.7962 - auc: 0.8899 - recall: 0.7962 - val_loss: 0.4028 - val_accuracy: 0.7990 - val_auc: 0.8968 - val_recall: 0.7990\n",
      "Epoch 69/200\n",
      "125/125 [==============================] - 34s 269ms/step - loss: 0.4186 - accuracy: 0.7990 - auc: 0.8914 - recall: 0.7990 - val_loss: 0.4025 - val_accuracy: 0.8010 - val_auc: 0.8954 - val_recall: 0.8010\n",
      "Epoch 70/200\n",
      "125/125 [==============================] - 30s 237ms/step - loss: 0.4118 - accuracy: 0.8048 - auc: 0.8973 - recall: 0.8048 - val_loss: 0.4086 - val_accuracy: 0.8020 - val_auc: 0.8980 - val_recall: 0.8020\n",
      "Epoch 71/200\n",
      "125/125 [==============================] - 29s 229ms/step - loss: 0.4123 - accuracy: 0.8030 - auc: 0.8965 - recall: 0.8030 - val_loss: 0.4988 - val_accuracy: 0.7740 - val_auc: 0.8484 - val_recall: 0.7740\n",
      "Epoch 72/200\n",
      "125/125 [==============================] - 30s 232ms/step - loss: 0.4169 - accuracy: 0.8060 - auc: 0.8936 - recall: 0.8060 - val_loss: 0.4344 - val_accuracy: 0.7960 - val_auc: 0.8906 - val_recall: 0.7960\n",
      "Epoch 73/200\n",
      "125/125 [==============================] - 32s 249ms/step - loss: 0.4064 - accuracy: 0.8105 - auc: 0.8986 - recall: 0.8105 - val_loss: 0.4673 - val_accuracy: 0.7720 - val_auc: 0.8607 - val_recall: 0.7720\n",
      "Epoch 74/200\n",
      "125/125 [==============================] - 31s 240ms/step - loss: 0.3801 - accuracy: 0.8167 - auc: 0.9085 - recall: 0.8167 - val_loss: 0.4219 - val_accuracy: 0.7970 - val_auc: 0.8885 - val_recall: 0.7970\n",
      "Epoch 75/200\n",
      "125/125 [==============================] - 35s 273ms/step - loss: 0.3995 - accuracy: 0.8045 - auc: 0.8980 - recall: 0.8045 - val_loss: 0.4468 - val_accuracy: 0.7850 - val_auc: 0.8788 - val_recall: 0.7850\n",
      "Epoch 76/200\n",
      "125/125 [==============================] - 30s 236ms/step - loss: 0.3947 - accuracy: 0.8140 - auc: 0.9047 - recall: 0.8140 - val_loss: 0.4027 - val_accuracy: 0.8030 - val_auc: 0.8996 - val_recall: 0.8030\n",
      "Epoch 77/200\n",
      "125/125 [==============================] - 29s 225ms/step - loss: 0.3859 - accuracy: 0.8175 - auc: 0.9088 - recall: 0.8175 - val_loss: 0.4269 - val_accuracy: 0.7930 - val_auc: 0.8897 - val_recall: 0.7930\n",
      "Epoch 78/200\n",
      "125/125 [==============================] - 31s 239ms/step - loss: 0.3800 - accuracy: 0.8140 - auc: 0.9093 - recall: 0.8140 - val_loss: 0.4196 - val_accuracy: 0.8070 - val_auc: 0.8948 - val_recall: 0.8070\n",
      "Epoch 79/200\n",
      "125/125 [==============================] - 34s 265ms/step - loss: 0.3582 - accuracy: 0.8290 - auc: 0.9202 - recall: 0.8290 - val_loss: 0.4139 - val_accuracy: 0.8000 - val_auc: 0.8995 - val_recall: 0.8000\n",
      "Epoch 80/200\n",
      "125/125 [==============================] - 34s 268ms/step - loss: 0.3761 - accuracy: 0.8230 - auc: 0.9148 - recall: 0.8230 - val_loss: 0.4047 - val_accuracy: 0.8090 - val_auc: 0.9042 - val_recall: 0.8090\n",
      "Epoch 81/200\n",
      "125/125 [==============================] - 29s 228ms/step - loss: 0.3814 - accuracy: 0.8192 - auc: 0.9103 - recall: 0.8192 - val_loss: 0.4125 - val_accuracy: 0.8110 - val_auc: 0.9038 - val_recall: 0.8110\n",
      "Epoch 82/200\n",
      "125/125 [==============================] - 31s 242ms/step - loss: 0.3752 - accuracy: 0.8290 - auc: 0.9177 - recall: 0.8290 - val_loss: 0.3983 - val_accuracy: 0.8020 - val_auc: 0.8990 - val_recall: 0.8020\n",
      "Epoch 83/200\n",
      "125/125 [==============================] - 29s 223ms/step - loss: 0.3752 - accuracy: 0.8250 - auc: 0.9146 - recall: 0.8250 - val_loss: 0.5367 - val_accuracy: 0.7370 - val_auc: 0.8290 - val_recall: 0.7370\n",
      "Epoch 84/200\n",
      "125/125 [==============================] - 36s 281ms/step - loss: 0.3757 - accuracy: 0.8195 - auc: 0.9120 - recall: 0.8195 - val_loss: 0.4363 - val_accuracy: 0.7990 - val_auc: 0.8877 - val_recall: 0.7990\n",
      "Epoch 85/200\n",
      "125/125 [==============================] - 33s 254ms/step - loss: 0.3757 - accuracy: 0.8185 - auc: 0.9122 - recall: 0.8185 - val_loss: 0.4207 - val_accuracy: 0.7990 - val_auc: 0.8956 - val_recall: 0.7990\n",
      "Epoch 86/200\n",
      "125/125 [==============================] - 29s 225ms/step - loss: 0.3788 - accuracy: 0.8205 - auc: 0.9136 - recall: 0.8205 - val_loss: 0.4241 - val_accuracy: 0.7950 - val_auc: 0.8896 - val_recall: 0.7950\n",
      "Epoch 87/200\n",
      "125/125 [==============================] - 32s 247ms/step - loss: 0.3677 - accuracy: 0.8245 - auc: 0.9174 - recall: 0.8245 - val_loss: 0.4175 - val_accuracy: 0.7990 - val_auc: 0.8975 - val_recall: 0.7990\n",
      "Epoch 88/200\n",
      "125/125 [==============================] - 34s 262ms/step - loss: 0.3666 - accuracy: 0.8210 - auc: 0.9161 - recall: 0.8210 - val_loss: 0.4387 - val_accuracy: 0.7960 - val_auc: 0.8965 - val_recall: 0.7960\n",
      "Epoch 89/200\n",
      "125/125 [==============================] - 36s 283ms/step - loss: 0.3626 - accuracy: 0.8340 - auc: 0.9219 - recall: 0.8340 - val_loss: 0.5437 - val_accuracy: 0.7760 - val_auc: 0.8533 - val_recall: 0.7760\n",
      "Epoch 90/200\n",
      "125/125 [==============================] - 40s 309ms/step - loss: 0.3535 - accuracy: 0.8273 - auc: 0.9214 - recall: 0.8273 - val_loss: 0.4567 - val_accuracy: 0.7950 - val_auc: 0.8876 - val_recall: 0.7950\n",
      "Epoch 91/200\n",
      "125/125 [==============================] - 29s 225ms/step - loss: 0.3581 - accuracy: 0.8273 - auc: 0.9214 - recall: 0.8273 - val_loss: 0.4055 - val_accuracy: 0.8290 - val_auc: 0.9104 - val_recall: 0.8290\n",
      "Epoch 92/200\n",
      "125/125 [==============================] - 32s 250ms/step - loss: 0.3594 - accuracy: 0.8322 - auc: 0.9215 - recall: 0.8322 - val_loss: 0.4590 - val_accuracy: 0.7980 - val_auc: 0.8880 - val_recall: 0.7980\n",
      "Epoch 93/200\n",
      "125/125 [==============================] - 29s 222ms/step - loss: 0.3611 - accuracy: 0.8263 - auc: 0.9186 - recall: 0.8263 - val_loss: 0.4033 - val_accuracy: 0.8170 - val_auc: 0.9113 - val_recall: 0.8170\n",
      "Epoch 94/200\n",
      "125/125 [==============================] - 28s 219ms/step - loss: 0.3487 - accuracy: 0.8257 - auc: 0.9221 - recall: 0.8257 - val_loss: 0.4227 - val_accuracy: 0.8110 - val_auc: 0.8941 - val_recall: 0.8110\n",
      "Epoch 95/200\n",
      "125/125 [==============================] - 31s 242ms/step - loss: 0.3473 - accuracy: 0.8422 - auc: 0.9282 - recall: 0.8422 - val_loss: 0.4484 - val_accuracy: 0.7930 - val_auc: 0.8785 - val_recall: 0.7930\n",
      "Epoch 96/200\n",
      "125/125 [==============================] - 31s 237ms/step - loss: 0.3480 - accuracy: 0.8395 - auc: 0.9254 - recall: 0.8395 - val_loss: 0.4564 - val_accuracy: 0.8230 - val_auc: 0.9059 - val_recall: 0.8230\n",
      "Epoch 97/200\n",
      "125/125 [==============================] - 30s 232ms/step - loss: 0.3215 - accuracy: 0.8468 - auc: 0.9350 - recall: 0.8468 - val_loss: 0.4204 - val_accuracy: 0.8100 - val_auc: 0.8985 - val_recall: 0.8100\n",
      "Epoch 98/200\n",
      "125/125 [==============================] - 32s 250ms/step - loss: 0.3391 - accuracy: 0.8317 - auc: 0.9283 - recall: 0.8317 - val_loss: 0.4978 - val_accuracy: 0.7120 - val_auc: 0.8244 - val_recall: 0.7120\n",
      "Epoch 99/200\n",
      "125/125 [==============================] - 40s 314ms/step - loss: 0.3491 - accuracy: 0.8347 - auc: 0.9259 - recall: 0.8347 - val_loss: 0.4980 - val_accuracy: 0.7850 - val_auc: 0.8790 - val_recall: 0.7850\n",
      "Epoch 100/200\n",
      "125/125 [==============================] - 38s 296ms/step - loss: 0.3426 - accuracy: 0.8403 - auc: 0.9293 - recall: 0.8403 - val_loss: 0.4047 - val_accuracy: 0.8000 - val_auc: 0.9037 - val_recall: 0.8000\n",
      "Epoch 101/200\n",
      "125/125 [==============================] - 36s 283ms/step - loss: 0.3310 - accuracy: 0.8415 - auc: 0.9328 - recall: 0.8415 - val_loss: 0.3949 - val_accuracy: 0.8050 - val_auc: 0.9062 - val_recall: 0.8050\n",
      "Epoch 102/200\n",
      "125/125 [==============================] - 31s 238ms/step - loss: 0.3255 - accuracy: 0.8508 - auc: 0.9361 - recall: 0.8508 - val_loss: 0.4358 - val_accuracy: 0.7950 - val_auc: 0.8952 - val_recall: 0.7950\n",
      "Epoch 103/200\n",
      "125/125 [==============================] - 31s 237ms/step - loss: 0.3176 - accuracy: 0.8515 - auc: 0.9376 - recall: 0.8515 - val_loss: 0.4060 - val_accuracy: 0.8160 - val_auc: 0.9075 - val_recall: 0.8160\n",
      "Epoch 104/200\n",
      "125/125 [==============================] - 32s 246ms/step - loss: 0.3215 - accuracy: 0.8462 - auc: 0.9359 - recall: 0.8462 - val_loss: 0.4092 - val_accuracy: 0.8140 - val_auc: 0.9058 - val_recall: 0.8140\n",
      "Epoch 105/200\n",
      "125/125 [==============================] - 31s 241ms/step - loss: 0.3171 - accuracy: 0.8495 - auc: 0.9377 - recall: 0.8495 - val_loss: 0.3987 - val_accuracy: 0.8220 - val_auc: 0.9140 - val_recall: 0.8220\n",
      "Epoch 106/200\n",
      "125/125 [==============================] - 31s 241ms/step - loss: 0.3187 - accuracy: 0.8512 - auc: 0.9380 - recall: 0.8512 - val_loss: 0.4211 - val_accuracy: 0.8040 - val_auc: 0.9001 - val_recall: 0.8040\n",
      "Epoch 107/200\n",
      "125/125 [==============================] - 35s 276ms/step - loss: 0.3235 - accuracy: 0.8540 - auc: 0.9371 - recall: 0.8540 - val_loss: 0.4121 - val_accuracy: 0.8150 - val_auc: 0.9088 - val_recall: 0.8150\n",
      "Epoch 108/200\n",
      "125/125 [==============================] - 39s 306ms/step - loss: 0.3110 - accuracy: 0.8520 - auc: 0.9405 - recall: 0.8520 - val_loss: 0.4158 - val_accuracy: 0.8010 - val_auc: 0.9035 - val_recall: 0.8010\n",
      "Epoch 109/200\n",
      "125/125 [==============================] - 32s 247ms/step - loss: 0.3205 - accuracy: 0.8487 - auc: 0.9366 - recall: 0.8487 - val_loss: 0.4298 - val_accuracy: 0.8080 - val_auc: 0.8964 - val_recall: 0.8080\n",
      "Epoch 110/200\n",
      "125/125 [==============================] - 31s 244ms/step - loss: 0.3123 - accuracy: 0.8540 - auc: 0.9409 - recall: 0.8540 - val_loss: 0.4011 - val_accuracy: 0.7960 - val_auc: 0.8963 - val_recall: 0.7960\n",
      "Epoch 111/200\n",
      "125/125 [==============================] - 32s 246ms/step - loss: 0.3222 - accuracy: 0.8537 - auc: 0.9373 - recall: 0.8537 - val_loss: 0.4325 - val_accuracy: 0.7990 - val_auc: 0.8941 - val_recall: 0.7990\n",
      "Epoch 112/200\n",
      "125/125 [==============================] - 32s 246ms/step - loss: 0.3081 - accuracy: 0.8572 - auc: 0.9427 - recall: 0.8572 - val_loss: 0.4788 - val_accuracy: 0.8080 - val_auc: 0.9025 - val_recall: 0.8080\n",
      "Epoch 113/200\n",
      "125/125 [==============================] - 32s 245ms/step - loss: 0.3179 - accuracy: 0.8515 - auc: 0.9384 - recall: 0.8515 - val_loss: 0.4059 - val_accuracy: 0.8350 - val_auc: 0.9109 - val_recall: 0.8350\n",
      "Epoch 114/200\n",
      "125/125 [==============================] - 32s 246ms/step - loss: 0.3003 - accuracy: 0.8540 - auc: 0.9439 - recall: 0.8540 - val_loss: 0.4897 - val_accuracy: 0.8140 - val_auc: 0.8946 - val_recall: 0.8140\n",
      "Epoch 115/200\n",
      "125/125 [==============================] - 41s 318ms/step - loss: 0.3002 - accuracy: 0.8545 - auc: 0.9437 - recall: 0.8545 - val_loss: 0.3962 - val_accuracy: 0.8330 - val_auc: 0.9164 - val_recall: 0.8330\n",
      "Epoch 116/200\n",
      "125/125 [==============================] - 37s 288ms/step - loss: 0.3072 - accuracy: 0.8577 - auc: 0.9439 - recall: 0.8577 - val_loss: 0.4102 - val_accuracy: 0.8210 - val_auc: 0.9073 - val_recall: 0.8210\n",
      "Epoch 117/200\n",
      "125/125 [==============================] - 38s 294ms/step - loss: 0.3111 - accuracy: 0.8525 - auc: 0.9407 - recall: 0.8525 - val_loss: 0.4463 - val_accuracy: 0.8200 - val_auc: 0.8990 - val_recall: 0.8200\n",
      "Epoch 118/200\n",
      "125/125 [==============================] - 37s 288ms/step - loss: 0.2953 - accuracy: 0.8590 - auc: 0.9463 - recall: 0.8590 - val_loss: 0.4669 - val_accuracy: 0.7840 - val_auc: 0.8878 - val_recall: 0.7840\n",
      "Epoch 119/200\n",
      "125/125 [==============================] - 37s 288ms/step - loss: 0.2873 - accuracy: 0.8593 - auc: 0.9482 - recall: 0.8593 - val_loss: 0.4145 - val_accuracy: 0.8250 - val_auc: 0.9161 - val_recall: 0.8250\n",
      "Epoch 120/200\n",
      "125/125 [==============================] - 37s 286ms/step - loss: 0.2909 - accuracy: 0.8648 - auc: 0.9494 - recall: 0.8648 - val_loss: 0.4511 - val_accuracy: 0.8020 - val_auc: 0.8970 - val_recall: 0.8020\n",
      "Epoch 121/200\n",
      "125/125 [==============================] - 39s 300ms/step - loss: 0.2899 - accuracy: 0.8643 - auc: 0.9491 - recall: 0.8643 - val_loss: 0.4670 - val_accuracy: 0.8280 - val_auc: 0.9172 - val_recall: 0.8280\n"
     ]
    },
    {
     "name": "stderr",
     "output_type": "stream",
     "text": [
      "WARNING:absl:Found untraced functions such as _jit_compiled_convolution_op, _jit_compiled_convolution_op, _jit_compiled_convolution_op, _jit_compiled_convolution_op, _jit_compiled_convolution_op while saving (showing 5 of 10). These functions will not be directly callable after loading.\n"
     ]
    },
    {
     "name": "stdout",
     "output_type": "stream",
     "text": [
      "INFO:tensorflow:Assets written to: ./weights/13layer_200epoch_not_denoised_2\\assets\n"
     ]
    },
    {
     "name": "stderr",
     "output_type": "stream",
     "text": [
      "INFO:tensorflow:Assets written to: ./weights/13layer_200epoch_not_denoised_2\\assets\n"
     ]
    }
   ],
   "source": [
    "model = createV2Model()\n",
    "compile_model(model)\n",
    "history = start_train(model, 200)\n",
    "history_df = save_model_and_history(model, history, '13layer_200epoch_not_denoised_2')"
   ]
  },
  {
   "cell_type": "markdown",
   "metadata": {},
   "source": [
    "# Load Saved Weight"
   ]
  },
  {
   "cell_type": "code",
   "execution_count": 30,
   "metadata": {},
   "outputs": [],
   "source": [
    "def load_weight_and_history(model_name):\n",
    "    model = load_model(f'./weights/{model_name}')\n",
    "    history_df = pd.read_csv(f'./weights/{model_name}/training_history.csv')\n",
    "\n",
    "    return (model, history_df)"
   ]
  },
  {
   "cell_type": "code",
   "execution_count": 51,
   "metadata": {},
   "outputs": [],
   "source": [
    "# model, history_df = load_weight_and_history('vgg2densebn_200epoch_not_denoised')\n",
    "model, history_df = load_weight_and_history('13layer_200epoch_not_denoised_2')"
   ]
  },
  {
   "cell_type": "markdown",
   "metadata": {},
   "source": [
    "# Plot"
   ]
  },
  {
   "cell_type": "code",
   "execution_count": 52,
   "metadata": {},
   "outputs": [
    {
     "data": {
      "image/png": "[encoded data removed]",
      "text/plain": [
       "<Figure size 2000x500 with 3 Axes>"
      ]
     },
     "metadata": {},
     "output_type": "display_data"
    }
   ],
   "source": [
    "import matplotlib.pyplot as plt\n",
    "\n",
    "# Plot training & validation metrics\n",
    "plt.figure(figsize=(20, 5))\n",
    "\n",
    "# Plot accuracy\n",
    "plt.subplot(1, 3, 1)\n",
    "plt.plot(history_df['accuracy'], label='Training Accuracy')\n",
    "plt.plot(history_df['val_accuracy'], label='Validation Accuracy')\n",
    "plt.title('Accuracy')\n",
    "plt.xlabel('Epoch')\n",
    "plt.ylabel('Accuracy')\n",
    "plt.legend()\n",
    "\n",
    "# Plot recall\n",
    "plt.subplot(1, 3, 2)\n",
    "plt.plot(history_df['recall'], label='Training Recall')\n",
    "plt.plot(history_df['val_recall'], label='Validation Recall')\n",
    "plt.title('Recall')\n",
    "plt.xlabel('Epoch')\n",
    "plt.ylabel('Recall')\n",
    "plt.legend()\n",
    "\n",
    "# Plot AUC\n",
    "plt.subplot(1, 3, 3)\n",
    "plt.plot(history_df['auc'], label='Training AUC')\n",
    "plt.plot(history_df['val_auc'], label='Validation AUC')\n",
    "plt.title('AUC')\n",
    "plt.xlabel('Epoch')\n",
    "plt.ylabel('AUC')\n",
    "plt.legend()\n",
    "\n",
    "plt.tight_layout()\n",
    "plt.show()\n"
   ]
  },
  {
   "cell_type": "markdown",
   "metadata": {},
   "source": [
    "# Test"
   ]
  },
  {
   "cell_type": "code",
   "execution_count": 53,
   "metadata": {},
   "outputs": [
    {
     "name": "stdout",
     "output_type": "stream",
     "text": [
      "49/49 [==============================] - 32s 651ms/step - loss: 0.3877 - accuracy: 0.8078 - auc: 0.9062 - recall: 0.8078\n"
     ]
    }
   ],
   "source": [
    "loss, accuracy, auc, recall= model.evaluate(test_image_generator)"
   ]
  },
  {
   "cell_type": "code",
   "execution_count": 42,
   "metadata": {},
   "outputs": [
    {
     "name": "stdout",
     "output_type": "stream",
     "text": [
      "0.4268474578857422 0.7876623272895813 0.8812773823738098 0.7876623272895813\n"
     ]
    }
   ],
   "source": [
    "print(loss, accuracy, auc, recall)"
   ]
  }
 ],
 "metadata": {
  "kernelspec": {
   "display_name": "base",
   "language": "python",
   "name": "python3"
  },
  "language_info": {
   "codemirror_mode": {
    "name": "ipython",
    "version": 3
   },
   "file_extension": ".py",
   "mimetype": "text/x-python",
   "name": "python",
   "nbconvert_exporter": "python",
   "pygments_lexer": "ipython3",
   "version": "3.9.19"
  }
 },
 "nbformat": 4,
 "nbformat_minor": 2
}

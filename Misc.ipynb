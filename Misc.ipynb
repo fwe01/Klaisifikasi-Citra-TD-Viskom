{
 "cells": [
  {
   "cell_type": "markdown",
   "metadata": {},
   "source": [
    "# Decompose Image"
   ]
  },
  {
   "cell_type": "code",
   "execution_count": 1,
   "metadata": {},
   "outputs": [
    {
     "name": "stdout",
     "output_type": "stream",
     "text": [
      "Channel decomposition completed.\n"
     ]
    }
   ],
   "source": [
    "import os\n",
    "import cv2\n",
    "\n",
    "# Function to check if all three channels exist for an image\n",
    "def channels_exist(image_name, output_folder):\n",
    "    filename, ext = os.path.splitext(image_name)\n",
    "    b_exists = os.path.exists(os.path.join(output_folder, filename + \"B\" + ext))\n",
    "    g_exists = os.path.exists(os.path.join(output_folder, filename + \"G\" + ext))\n",
    "    r_exists = os.path.exists(os.path.join(output_folder, filename + \"R\" + ext))\n",
    "    return b_exists and g_exists and r_exists\n",
    "\n",
    "# Function to separate RGB channels and save them\n",
    "def separate_channels(image_path, output_folder):\n",
    "    # Load image\n",
    "    image = cv2.imread(image_path)\n",
    "    if image is None:\n",
    "        print(f\"Error: Unable to read image {image_path}\")\n",
    "        return\n",
    "\n",
    "    # Get filename and extension\n",
    "    filename, ext = os.path.splitext(os.path.basename(image_path))\n",
    "\n",
    "    # Check if all three channels already exist\n",
    "    if channels_exist(filename, output_folder):\n",
    "        print(f\"Channels already exist for {filename}, skipping...\")\n",
    "        return\n",
    "\n",
    "    # Split channels\n",
    "    b, g, r = cv2.split(image)\n",
    "\n",
    "    # Save each channel\n",
    "    cv2.imwrite(os.path.join(output_folder, filename + \"B\" + ext), b)\n",
    "    cv2.imwrite(os.path.join(output_folder, filename + \"G\" + ext), g)\n",
    "    cv2.imwrite(os.path.join(output_folder, filename + \"R\" + ext), r)\n",
    "\n",
    "# Iterate over images in \"ROI\" folder\n",
    "roi_folder = \"ROI\"\n",
    "output_folder = \"Channel_Decomposed\"\n",
    "\n",
    "if not os.path.exists(output_folder):\n",
    "    os.makedirs(output_folder)\n",
    "\n",
    "for filename in os.listdir(roi_folder):\n",
    "    if filename.endswith(\".JPG\") or filename.endswith(\".jpeg\") or filename.endswith(\".png\"):\n",
    "        image_path = os.path.join(roi_folder, filename)\n",
    "        separate_channels(image_path, output_folder)\n",
    "\n",
    "print(\"Channel decomposition completed.\")\n"
   ]
  },
  {
   "cell_type": "markdown",
   "metadata": {},
   "source": [
    "# Combine Channels"
   ]
  },
  {
   "cell_type": "code",
   "execution_count": null,
   "metadata": {},
   "outputs": [],
   "source": [
    "import cv2\n",
    "import os\n",
    "\n",
    "decomposed_folder = \"Denoised Decomposed\"\n",
    "roi_folder = \"ROI\"\n",
    "output_folder = \"Denoised Combined\"\n",
    "prefix = 'denoised_'\n",
    "\n",
    "\n",
    "def combine_channel(image_name):\n",
    "    # Get filename and extension\n",
    "    filename, ext = os.path.splitext(os.path.basename(image_name))\n",
    "    print(image_name)\n",
    "\n",
    "    # Read each channel image\n",
    "    red_channel = cv2.imread(os.path.join(decomposed_folder, prefix + filename + \"B\" + ext))\n",
    "    green_channel = cv2.imread(os.path.join(decomposed_folder, prefix + filename + \"G\" + ext))\n",
    "    blue_channel = cv2.imread(os.path.join(decomposed_folder, prefix + filename + \"R\" + ext))\n",
    "\n",
    "    if blue_channel is None or green_channel is None or red_channel is None:\n",
    "        print(\"Error: One or more channels could not be loaded.\")\n",
    "    else:\n",
    "         # Combine channels into a single-channel image (taking mean across channels)\n",
    "        combined_image = (blue_channel + green_channel + red_channel) / 3\n",
    "\n",
    "        print(combined_image.shape)\n",
    "\n",
    "        # Save the combined image\n",
    "        cv2.imwrite(os.path.join(output_folder, image_name), combined_image)\n",
    "\n",
    "\n",
    "if not os.path.exists(output_folder):\n",
    "    os.makedirs(output_folder)\n",
    "\n",
    "# Iterate over images in \"ROI\" folder\n",
    "for filename in os.listdir(roi_folder):\n",
    "    if (\n",
    "        filename.endswith(\".JPG\")\n",
    "        or filename.endswith(\".jpeg\")\n",
    "        or filename.endswith(\".png\")\n",
    "    ):\n",
    "        combine_channel(filename)"
   ]
  },
  {
   "cell_type": "markdown",
   "metadata": {},
   "source": [
    "# Move Folder \n"
   ]
  },
  {
   "cell_type": "code",
   "execution_count": null,
   "metadata": {},
   "outputs": [],
   "source": [
    "import pandas as pd\n",
    "import shutil\n",
    "import os\n",
    "\n",
    "# Sample DataFrame with file paths\n",
    "data = {'File': ['path/to/file1.txt', 'path/to/file2.txt', 'path/to/file3.txt']}\n",
    "df = pd.DataFrame(data)\n",
    "\n",
    "# Source and destination folder paths\n",
    "source_folder = 'source_folder'\n",
    "destination_folder = 'destination_folder'\n",
    "\n",
    "# Check if the destination folder exists, if not create it\n",
    "if not os.path.exists(destination_folder):\n",
    "    os.makedirs(destination_folder)\n",
    "\n",
    "# Move files\n",
    "for index, row in df.iterrows():\n",
    "    file_path = row['File']\n",
    "    file_name = os.path.basename(file_path)\n",
    "    source_path = os.path.join(source_folder, file_name)\n",
    "    destination_path = os.path.join(destination_folder, file_name)\n",
    "    \n",
    "    try:\n",
    "        shutil.move(source_path, destination_path)\n",
    "        print(f\"Moved {file_name} to {destination_folder}\")\n",
    "    except FileNotFoundError:\n",
    "        print(f\"File {file_name} not found in {source_folder}\")\n",
    "    except Exception as e:\n",
    "        print(f\"Error occurred while moving {file_name}: {str(e)}\")\n"
   ]
  },
  {
   "cell_type": "markdown",
   "metadata": {},
   "source": [
    "# Check valid filename"
   ]
  },
  {
   "cell_type": "code",
   "execution_count": null,
   "metadata": {},
   "outputs": [],
   "source": [
    "# import os\n",
    "# import cv2\n",
    "\n",
    "# sdir = r'JustRAIGS_Train'\n",
    "\n",
    "# for index, row in df.iterrows():\n",
    "#     file_id = row['Eye ID']\n",
    "#     file_path = os.path.join(sdir, file_id)  # Construct the full path to the image file\n",
    "    \n",
    "#     try:\n",
    "#         image = cv2.imread(file_path)\n",
    "#         if image is None:\n",
    "#             print(f\"Invalid image file: {file_path}\")\n",
    "#         else:\n",
    "#             shape = image.shape\n",
    "#             # print(f\"Shape of image '{file_path}': {shape}\")\n",
    "#     except Exception as e:\n",
    "#         print(f\"Error loading image file: {file_path}. Error: {str(e)}\")\n"
   ]
  }
 ],
 "metadata": {
  "kernelspec": {
   "display_name": "tf",
   "language": "python",
   "name": "python3"
  },
  "language_info": {
   "codemirror_mode": {
    "name": "ipython",
    "version": 3
   },
   "file_extension": ".py",
   "mimetype": "text/x-python",
   "name": "python",
   "nbconvert_exporter": "python",
   "pygments_lexer": "ipython3",
   "version": "3.9.18"
  }
 },
 "nbformat": 4,
 "nbformat_minor": 2
}

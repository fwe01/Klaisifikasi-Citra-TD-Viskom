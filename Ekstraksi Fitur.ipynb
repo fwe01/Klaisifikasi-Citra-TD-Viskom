{
 "cells": [
  {
   "cell_type": "code",
   "execution_count": 18,
   "metadata": {},
   "outputs": [
    {
     "ename": "ValueError",
     "evalue": "math domain error",
     "output_type": "error",
     "traceback": [
      "\u001b[1;31m---------------------------------------------------------------------------\u001b[0m",
      "\u001b[1;31mValueError\u001b[0m                                Traceback (most recent call last)",
      "Cell \u001b[1;32mIn[18], line 32\u001b[0m\n\u001b[0;32m     30\u001b[0m         contrast \u001b[38;5;241m+\u001b[39m\u001b[38;5;241m=\u001b[39m \u001b[38;5;28mpow\u001b[39m(\u001b[38;5;28mabs\u001b[39m(x \u001b[38;5;241m-\u001b[39m y), \u001b[38;5;241m2\u001b[39m) \u001b[38;5;241m*\u001b[39m pixel_value\n\u001b[0;32m     31\u001b[0m         homogeneity \u001b[38;5;241m+\u001b[39m\u001b[38;5;241m=\u001b[39m  pixel_value \u001b[38;5;241m/\u001b[39m (\u001b[38;5;241m1\u001b[39m \u001b[38;5;241m+\u001b[39m \u001b[38;5;28mabs\u001b[39m(x \u001b[38;5;241m-\u001b[39m y))\n\u001b[1;32m---> 32\u001b[0m         entropy \u001b[38;5;241m+\u001b[39m\u001b[38;5;241m=\u001b[39m pixel_value \u001b[38;5;241m*\u001b[39m \u001b[43mmath\u001b[49m\u001b[38;5;241;43m.\u001b[39;49m\u001b[43mlog2\u001b[49m\u001b[43m(\u001b[49m\u001b[43mpixel_value\u001b[49m\u001b[43m)\u001b[49m\n\u001b[0;32m     34\u001b[0m entropy \u001b[38;5;241m=\u001b[39m \u001b[38;5;241m-\u001b[39m\u001b[38;5;241m1\u001b[39m \u001b[38;5;241m*\u001b[39m entropy\n\u001b[0;32m     36\u001b[0m \u001b[38;5;28mprint\u001b[39m(mean, root_mean_square, standard_deviation, variance, energy, contrast, homogeneity, entropy)\n",
      "\u001b[1;31mValueError\u001b[0m: math domain error"
     ]
    }
   ],
   "source": [
    "import cv2\n",
    "from PIL import Image\n",
    "import math\n",
    "import numpy as np\n",
    "\n",
    "# Read the image\n",
    "image = cv2.imread(\"MATLAB/testing_png.png\", cv2.IMREAD_GRAYSCALE)\n",
    "\n",
    "# Get the width and height of the image\n",
    "width, height = image.shape\n",
    "\n",
    "mean = np.mean(image)\n",
    "root_mean_square = math.sqrt(mean)\n",
    "\n",
    "standard_deviation = np.std(image)\n",
    "variance = math.pow(standard_deviation, 2)\n",
    "\n",
    "energy = np.sum(np.square(image))\n",
    "\n",
    "contrast = 0\n",
    "homogeneity = 0\n",
    "entropy = 0\n",
    "\n",
    "# Iterate over each pixel\n",
    "for y in range(height):\n",
    "    for x in range(width):\n",
    "        # Get the pixel value at (x, y)\n",
    "        pixel_value = image[x, y]\n",
    "\n",
    "        contrast += pow(abs(x - y), 2) * pixel_value\n",
    "        homogeneity +=  pixel_value / (1 + abs(x - y))\n",
    "        entropy += pixel_value * math.log2(pixel_value)\n",
    "\n",
    "entropy = -1 * entropy\n",
    "\n",
    "print(mean, root_mean_square, standard_deviation, variance, energy, contrast, homogeneity, entropy)\n"
   ]
  },
  {
   "cell_type": "code",
   "execution_count": null,
   "metadata": {},
   "outputs": [],
   "source": []
  }
 ],
 "metadata": {
  "kernelspec": {
   "display_name": "tf",
   "language": "python",
   "name": "python3"
  },
  "language_info": {
   "codemirror_mode": {
    "name": "ipython",
    "version": 3
   },
   "file_extension": ".py",
   "mimetype": "text/x-python",
   "name": "python",
   "nbconvert_exporter": "python",
   "pygments_lexer": "ipython3",
   "version": "3.9.19"
  }
 },
 "nbformat": 4,
 "nbformat_minor": 2
}
